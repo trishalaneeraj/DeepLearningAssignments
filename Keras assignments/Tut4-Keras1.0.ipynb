{
 "cells": [
  {
   "cell_type": "code",
   "execution_count": 1,
   "metadata": {
    "collapsed": false
   },
   "outputs": [
    {
     "name": "stderr",
     "output_type": "stream",
     "text": [
      "Using Theano backend.\n"
     ]
    }
   ],
   "source": [
    "import keras"
   ]
  },
  {
   "cell_type": "code",
   "execution_count": 3,
   "metadata": {
    "collapsed": true
   },
   "outputs": [],
   "source": [
    "import numpy as np\n",
    "from keras.datasets import mnist\n",
    "from keras.models import Sequential\n",
    "from keras.layers.core import Dense, Dropout, Activation\n",
    "from keras.optimizers import SGD, Adam, RMSprop\n",
    "from keras.utils import np_utils\n",
    "from keras.layers.convolutional import Convolution2D, MaxPooling2D"
   ]
  },
  {
   "cell_type": "code",
   "execution_count": 4,
   "metadata": {
    "collapsed": true
   },
   "outputs": [],
   "source": [
    "(X_train, y_train), (X_test, y_test) = mnist.load_data()\n",
    "X_train = X_train.reshape(60000, 784)\n",
    "X_test = X_test.reshape(10000, 784)\n",
    "X_train = X_train.astype('float32')\n",
    "X_test = X_test.astype('float32')\n",
    "X_train /= 255\n",
    "X_test /= 255\n",
    "#print(X_train.shape[0], 'train samples')\n",
    "#print(X_test.shape[0], 'test samples')\n",
    "\n",
    "#convert class vectors to binary class matrices\n",
    "nb_classes = 10\n",
    "Y_train = np_utils.to_categorical(y_train, nb_classes)\n",
    "Y_test = np_utils.to_categorical(y_test, nb_classes)"
   ]
  },
  {
   "cell_type": "code",
   "execution_count": 5,
   "metadata": {
    "collapsed": false
   },
   "outputs": [],
   "source": [
    "model = Sequential()\n",
    "model.add(Dense(128, input_shape=(784,)))\n",
    "model.add(Activation('sigmoid'))\n",
    "model.add(Dense(10))\n",
    "model.add(Activation('softmax'))\n",
    "sgd = SGD()"
   ]
  },
  {
   "cell_type": "code",
   "execution_count": 6,
   "metadata": {
    "collapsed": false
   },
   "outputs": [
    {
     "name": "stdout",
     "output_type": "stream",
     "text": [
      "CPU times: user 13.4 ms, sys: 3.01 ms, total: 16.4 ms\n",
      "Wall time: 15.5 ms\n"
     ]
    }
   ],
   "source": [
    "%time model.compile(loss='categorical_crossentropy', optimizer=RMSprop(), metrics=['accuracy'])\n",
    "\n",
    "#Faster! But similar accuracies"
   ]
  },
  {
   "cell_type": "code",
   "execution_count": 8,
   "metadata": {
    "collapsed": false
   },
   "outputs": [
    {
     "name": "stdout",
     "output_type": "stream",
     "text": [
      "Train on 60000 samples, validate on 10000 samples\n",
      "Epoch 1/10\n",
      "60000/60000 [==============================] - 1s - loss: 0.1692 - acc: 0.9513 - val_loss: 0.1553 - val_acc: 0.9534\n",
      "Epoch 2/10\n",
      "60000/60000 [==============================] - 1s - loss: 0.1452 - acc: 0.9585 - val_loss: 0.1393 - val_acc: 0.9589\n",
      "Epoch 3/10\n",
      "60000/60000 [==============================] - 1s - loss: 0.1267 - acc: 0.9638 - val_loss: 0.1256 - val_acc: 0.9619\n",
      "Epoch 4/10\n",
      "60000/60000 [==============================] - 1s - loss: 0.1124 - acc: 0.9675 - val_loss: 0.1162 - val_acc: 0.9646\n",
      "Epoch 5/10\n",
      "60000/60000 [==============================] - 1s - loss: 0.1008 - acc: 0.9712 - val_loss: 0.1092 - val_acc: 0.9676\n",
      "Epoch 6/10\n",
      "60000/60000 [==============================] - 1s - loss: 0.0912 - acc: 0.9739 - val_loss: 0.1066 - val_acc: 0.9685\n",
      "Epoch 7/10\n",
      "60000/60000 [==============================] - 1s - loss: 0.0828 - acc: 0.9765 - val_loss: 0.0984 - val_acc: 0.9701\n",
      "Epoch 8/10\n",
      "60000/60000 [==============================] - 1s - loss: 0.0756 - acc: 0.9787 - val_loss: 0.0938 - val_acc: 0.9719\n",
      "Epoch 9/10\n",
      "60000/60000 [==============================] - 1s - loss: 0.0693 - acc: 0.9798 - val_loss: 0.0897 - val_acc: 0.9727\n",
      "Epoch 10/10\n",
      "60000/60000 [==============================] - 1s - loss: 0.0640 - acc: 0.9819 - val_loss: 0.0864 - val_acc: 0.9724\n"
     ]
    }
   ],
   "source": [
    "h = model.fit(X_train, Y_train, batch_size =128, nb_epoch=10, validation_data = (X_test, Y_test), verbose=1)"
   ]
  },
  {
   "cell_type": "code",
   "execution_count": 9,
   "metadata": {
    "collapsed": true
   },
   "outputs": [],
   "source": [
    "W1,b1,W2,b2 = model.get_weights()"
   ]
  },
  {
   "cell_type": "code",
   "execution_count": 10,
   "metadata": {
    "collapsed": false
   },
   "outputs": [
    {
     "data": {
      "text/plain": [
       "array([[-0.00142565, -0.0039606 ,  0.02717272, ..., -0.0751051 ,\n",
       "        -0.051087  ,  0.07243567],\n",
       "       [-0.03458139, -0.0731325 , -0.03527547, ...,  0.04692741,\n",
       "        -0.05621677,  0.03705913],\n",
       "       [-0.06424583, -0.03103889,  0.03405401, ...,  0.07431195,\n",
       "         0.06210379,  0.06233215],\n",
       "       ..., \n",
       "       [ 0.01557853, -0.00960844,  0.06059841, ...,  0.05338147,\n",
       "        -0.04973355, -0.05201685],\n",
       "       [ 0.07296682,  0.02758776,  0.07728355, ..., -0.0434236 ,\n",
       "        -0.05702476,  0.07888623],\n",
       "       [-0.07560469,  0.07323047, -0.01223268, ...,  0.0253329 ,\n",
       "         0.00402967,  0.07876542]], dtype=float32)"
      ]
     },
     "execution_count": 10,
     "metadata": {},
     "output_type": "execute_result"
    }
   ],
   "source": [
    "W1"
   ]
  },
  {
   "cell_type": "code",
   "execution_count": 11,
   "metadata": {
    "collapsed": false
   },
   "outputs": [
    {
     "data": {
      "text/plain": [
       "array([ 0.10043832, -0.01948167, -0.20526308,  0.1697733 ,  0.05429776,\n",
       "        0.06825454, -0.16141129, -0.02457692, -0.06833612,  0.00156426,\n",
       "        0.05099694,  0.21819581,  0.05773035,  0.1602226 ,  0.12114451,\n",
       "        0.11984398, -0.05610244, -0.10449342,  0.06484786, -0.04748415,\n",
       "        0.13827489, -0.12775253,  0.16993891,  0.21210749,  0.1097947 ,\n",
       "        0.00660071, -0.0896866 ,  0.19720465,  0.04307061,  0.04439583,\n",
       "       -0.04021802,  0.03605755,  0.11102908, -0.05793058,  0.15769356,\n",
       "       -0.03352894, -0.18268993,  0.0493525 , -0.2475979 ,  0.12382589,\n",
       "        0.09176745, -0.02558048,  0.04790801, -0.19995564,  0.08324167,\n",
       "       -0.0495948 , -0.23537102, -0.03101009, -0.17778596, -0.1031969 ,\n",
       "       -0.01379864,  0.01385268,  0.18692754,  0.09095317, -0.04954295,\n",
       "        0.04671147,  0.21246202,  0.03720361, -0.19869503, -0.02805918,\n",
       "       -0.01668784, -0.17730269, -0.06832355,  0.02500791, -0.05643343,\n",
       "        0.03641709,  0.15413758,  0.31146437, -0.07556383, -0.17722075,\n",
       "       -0.04137132,  0.15851994, -0.12243886,  0.14182146,  0.09667142,\n",
       "       -0.00889922,  0.28329924, -0.29330695, -0.15812433,  0.08328546,\n",
       "       -0.23591691,  0.33141166,  0.11378652, -0.27514407,  0.15210287,\n",
       "        0.02609014,  0.10192034,  0.06615241,  0.17448634,  0.11741891,\n",
       "       -0.11820157, -0.31370032, -0.03668359,  0.01276293, -0.11276785,\n",
       "       -0.03637774,  0.03672031, -0.08612879,  0.18470021, -0.08563092,\n",
       "       -0.16253099,  0.21113114,  0.31730339,  0.04454603, -0.02237793,\n",
       "       -0.03410767,  0.01406401,  0.21269356, -0.02946036,  0.17660074,\n",
       "        0.01869415,  0.03104155,  0.01548421, -0.01327735, -0.04666601,\n",
       "        0.01512554,  0.14712831, -0.11657657, -0.20031077, -0.021646  ,\n",
       "       -0.1309271 , -0.06232494, -0.16711718, -0.05659973,  0.01736163,\n",
       "       -0.14532043,  0.09070957,  0.08512969], dtype=float32)"
      ]
     },
     "execution_count": 11,
     "metadata": {},
     "output_type": "execute_result"
    }
   ],
   "source": [
    "b1"
   ]
  },
  {
   "cell_type": "code",
   "execution_count": 12,
   "metadata": {
    "collapsed": false
   },
   "outputs": [
    {
     "data": {
      "text/plain": [
       "array([[-0.35971317, -0.26416251, -0.32802197, ...,  0.17337452,\n",
       "         0.38448581, -0.2042591 ],\n",
       "       [-0.40945843,  0.30648831, -0.09525179, ..., -0.52708691,\n",
       "         0.27038845,  0.2587904 ],\n",
       "       [ 0.40596169, -0.15574837,  0.10904593, ..., -0.86787289,\n",
       "         0.191301  ,  0.08272504],\n",
       "       ..., \n",
       "       [ 0.47285885,  0.16921343, -0.29229778, ..., -0.77490544,\n",
       "        -0.37667841, -1.22462893],\n",
       "       [-1.1226666 ,  0.40737879, -0.07175156, ..., -0.31696981,\n",
       "        -0.22141723,  0.35308376],\n",
       "       [-0.62327641,  0.16015658,  0.32016051, ..., -0.57516301,\n",
       "         0.33864042, -0.49780947]], dtype=float32)"
      ]
     },
     "execution_count": 12,
     "metadata": {},
     "output_type": "execute_result"
    }
   ],
   "source": [
    "W2"
   ]
  },
  {
   "cell_type": "code",
   "execution_count": 13,
   "metadata": {
    "collapsed": false
   },
   "outputs": [
    {
     "data": {
      "text/plain": [
       "array([-0.05197818,  0.01832528, -0.00856542, -0.06612796, -0.02183302,\n",
       "       -0.01136812, -0.00802951, -0.01080517, -0.05100304,  0.03965207], dtype=float32)"
      ]
     },
     "execution_count": 13,
     "metadata": {},
     "output_type": "execute_result"
    }
   ],
   "source": [
    "b2"
   ]
  },
  {
   "cell_type": "code",
   "execution_count": 16,
   "metadata": {
    "collapsed": false
   },
   "outputs": [
    {
     "data": {
      "text/plain": [
       "<matplotlib.collections.QuadMesh at 0x11730a310>"
      ]
     },
     "execution_count": 16,
     "metadata": {},
     "output_type": "execute_result"
    },
    {
     "data": {
      "image/png": "[encoded data removed]",
      "text/plain": [
       "<matplotlib.figure.Figure at 0x114d99590>"
      ]
     },
     "metadata": {},
     "output_type": "display_data"
    }
   ],
   "source": [
    "import matplotlib.pyplot as plt\n",
    "plt.ion()\n",
    "plt.pcolormesh(W2)"
   ]
  },
  {
   "cell_type": "code",
   "execution_count": 19,
   "metadata": {
    "collapsed": false
   },
   "outputs": [],
   "source": [
    "from keras.utils.visualize_util import model_to_dot"
   ]
  },
  {
   "cell_type": "code",
   "execution_count": null,
   "metadata": {
    "collapsed": true
   },
   "outputs": [],
   "source": [
    "#Not changing everything in belowbo\n"
   ]
  },
  {
   "cell_type": "markdown",
   "metadata": {},
   "source": [
    "https://github.com/fchollet/keras/wiki/Porting-your-custom-layers-from-Keras-0.3-to-Keras-1.0"
   ]
  }
 ],
 "metadata": {
  "anaconda-cloud": {},
  "kernelspec": {
   "display_name": "Python [conda env:newkeras]",
   "language": "python",
   "name": "conda-env-newkeras-py"
  },
  "language_info": {
   "codemirror_mode": {
    "name": "ipython",
    "version": 2
   },
   "file_extension": ".py",
   "mimetype": "text/x-python",
   "name": "python",
   "nbconvert_exporter": "python",
   "pygments_lexer": "ipython2",
   "version": "2.7.12"
  }
 },
 "nbformat": 4,
 "nbformat_minor": 1
}
