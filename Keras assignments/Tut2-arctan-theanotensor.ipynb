{
 "cells": [
  {
   "cell_type": "code",
   "execution_count": 1,
   "metadata": {
    "collapsed": false
   },
   "outputs": [
    {
     "name": "stderr",
     "output_type": "stream",
     "text": [
      "Using Theano backend.\n"
     ]
    }
   ],
   "source": [
    "import keras"
   ]
  },
  {
   "cell_type": "code",
   "execution_count": 2,
   "metadata": {
    "collapsed": true
   },
   "outputs": [],
   "source": [
    "import numpy as np\n",
    "from keras.datasets import mnist\n",
    "from keras.models import Sequential\n",
    "from keras.layers.core import Dense, Dropout, Activation\n",
    "from keras.optimizers import SGD, Adam, RMSprop\n",
    "from keras.utils import np_utils"
   ]
  },
  {
   "cell_type": "code",
   "execution_count": 3,
   "metadata": {
    "collapsed": true
   },
   "outputs": [],
   "source": [
    "from keras.layers.advanced_activations import LeakyReLU\n",
    "from custom_activations import funky"
   ]
  },
  {
   "cell_type": "code",
   "execution_count": 4,
   "metadata": {
    "collapsed": true
   },
   "outputs": [],
   "source": [
    "act1 = LeakyReLU()"
   ]
  },
  {
   "cell_type": "code",
   "execution_count": 5,
   "metadata": {
    "collapsed": true
   },
   "outputs": [],
   "source": [
    "act2 = funky()"
   ]
  },
  {
   "cell_type": "code",
   "execution_count": 6,
   "metadata": {
    "collapsed": false
   },
   "outputs": [],
   "source": [
    "model = Sequential()\n",
    "model.add(Dense(128, input_shape=(784,)))\n",
    "model.add(Activation(act2))\n",
    "model.add(Dense(10))\n",
    "model.add(Activation('softmax'))\n",
    "sgd = SGD()"
   ]
  },
  {
   "cell_type": "code",
   "execution_count": 7,
   "metadata": {
    "collapsed": true
   },
   "outputs": [],
   "source": [
    "(X_train, y_train), (X_test, y_test) = mnist.load_data()\n",
    "X_train = X_train.reshape(60000, 784)\n",
    "X_test = X_test.reshape(10000, 784)\n",
    "X_train = X_train.astype('float32')\n",
    "X_test = X_test.astype('float32')\n",
    "X_train /= 255\n",
    "X_test /= 255\n",
    "#print(X_train.shape[0], 'train samples')\n",
    "#print(X_test.shape[0], 'test samples')\n",
    "\n",
    "#convert class vectors to binary class matrices\n",
    "nb_classes = 10\n",
    "Y_train = np_utils.to_categorical(y_train, nb_classes)\n",
    "Y_test = np_utils.to_categorical(y_test, nb_classes)"
   ]
  },
  {
   "cell_type": "code",
   "execution_count": 8,
   "metadata": {
    "collapsed": false
   },
   "outputs": [
    {
     "name": "stdout",
     "output_type": "stream",
     "text": [
      "CPU times: user 12.9 ms, sys: 2.02 ms, total: 14.9 ms\n",
      "Wall time: 14.4 ms\n"
     ]
    }
   ],
   "source": [
    "%time model.compile(loss='categorical_crossentropy', optimizer=RMSprop(), metrics=['accuracy'])\n",
    "\n",
    "#Faster! But similar accuracies"
   ]
  },
  {
   "cell_type": "code",
   "execution_count": 9,
   "metadata": {
    "collapsed": false
   },
   "outputs": [
    {
     "name": "stderr",
     "output_type": "stream",
     "text": [
      "/Users/trishala/anaconda2/envs/newkeras/lib/python2.7/site-packages/keras/models.py:603: UserWarning: The \"show_accuracy\" argument is deprecated, instead you should pass the \"accuracy\" metric to the model at compile time:\n",
      "`model.compile(optimizer, loss, metrics=[\"accuracy\"])`\n",
      "  warnings.warn('The \"show_accuracy\" argument is deprecated, '\n"
     ]
    },
    {
     "name": "stdout",
     "output_type": "stream",
     "text": [
      "Train on 60000 samples, validate on 10000 samples\n",
      "Epoch 1/3\n",
      "60000/60000 [==============================] - 1s - loss: 0.3866 - acc: 0.8914 - val_loss: 0.2995 - val_acc: 0.9153\n",
      "Epoch 2/3\n",
      "60000/60000 [==============================] - 2s - loss: 0.2942 - acc: 0.9171 - val_loss: 0.2923 - val_acc: 0.9187\n",
      "Epoch 3/3\n",
      "60000/60000 [==============================] - 2s - loss: 0.2837 - acc: 0.9205 - val_loss: 0.2917 - val_acc: 0.9172\n"
     ]
    }
   ],
   "source": [
    "h = model.fit(X_train, Y_train, batch_size =128, nb_epoch=3, show_accuracy = True, validation_data = (X_test, Y_test), verbose=1)"
   ]
  },
  {
   "cell_type": "code",
   "execution_count": 10,
   "metadata": {
    "collapsed": true
   },
   "outputs": [],
   "source": [
    "W1,b1,W2,b2 = model.get_weights()"
   ]
  },
  {
   "cell_type": "code",
   "execution_count": 11,
   "metadata": {
    "collapsed": false
   },
   "outputs": [
    {
     "data": {
      "text/plain": [
       "array([[-0.01411955, -0.02707999, -0.01429438, ...,  0.04370084,\n",
       "         0.04148508, -0.01531713],\n",
       "       [ 0.03839912,  0.05203186, -0.04816595, ...,  0.03878478,\n",
       "         0.02930572, -0.03676845],\n",
       "       [ 0.01205098,  0.06417956,  0.04291197, ..., -0.00728522,\n",
       "         0.00392917, -0.0153737 ],\n",
       "       ..., \n",
       "       [ 0.01906013,  0.05517058,  0.07970759, ..., -0.02341249,\n",
       "         0.01176584, -0.07189351],\n",
       "       [ 0.04002133,  0.02966335, -0.02059489, ...,  0.05221587,\n",
       "        -0.02323005, -0.04197509],\n",
       "       [-0.03849692, -0.07032873,  0.02812876, ...,  0.03593689,\n",
       "         0.05946992,  0.00061742]], dtype=float32)"
      ]
     },
     "execution_count": 11,
     "metadata": {},
     "output_type": "execute_result"
    }
   ],
   "source": [
    "W1"
   ]
  },
  {
   "cell_type": "code",
   "execution_count": 12,
   "metadata": {
    "collapsed": false
   },
   "outputs": [
    {
     "data": {
      "text/plain": [
       "array([-0.0261254 ,  0.07056863,  0.01571248, -0.17559284,  0.09135401,\n",
       "       -0.19134818,  0.15001026,  0.11207247, -0.1018461 ,  0.00987686,\n",
       "        0.00070437,  0.08858409,  0.00926275,  0.1961588 , -0.1451423 ,\n",
       "       -0.03971472,  0.1771263 ,  0.02292113, -0.08534971, -0.11919432,\n",
       "        0.11157175, -0.07347897,  0.10584903, -0.07915641, -0.0291166 ,\n",
       "        0.17708397, -0.02045507, -0.10346566,  0.00316526, -0.08067903,\n",
       "        0.1503755 , -0.12885685,  0.11294539,  0.01151587,  0.09151273,\n",
       "        0.01213997, -0.05777294,  0.070219  ,  0.00815507,  0.1229982 ,\n",
       "       -0.04614078,  0.144227  ,  0.13643719, -0.01235144, -0.09605792,\n",
       "        0.03942292, -0.1182886 , -0.10661017,  0.08606984, -0.10542819,\n",
       "       -0.0902491 ,  0.17502137, -0.066681  ,  0.13783252,  0.11874145,\n",
       "       -0.0818641 , -0.00827882,  0.0778539 ,  0.03667735,  0.13007115,\n",
       "        0.16884667, -0.11590551,  0.08952458, -0.09187032, -0.02428015,\n",
       "        0.05049475, -0.04182416, -0.24571392, -0.01195023,  0.09053693,\n",
       "       -0.09964342, -0.01766989,  0.03485607, -0.00418589,  0.06726033,\n",
       "        0.04536832, -0.08079925,  0.08678847, -0.12046988, -0.07263611,\n",
       "       -0.07906393, -0.13538738,  0.03037657, -0.12259094,  0.17848322,\n",
       "        0.16480064,  0.08443268, -0.09080364, -0.10075958,  0.09792572,\n",
       "        0.16625325, -0.07632175,  0.00806487, -0.03108901, -0.18426633,\n",
       "       -0.05951957, -0.14050451, -0.06522796, -0.1133448 ,  0.16046643,\n",
       "       -0.10419697,  0.0988023 ,  0.00904812,  0.13985895, -0.09122831,\n",
       "       -0.02435718,  0.05166906,  0.12761715,  0.17811188,  0.12347563,\n",
       "        0.0504395 ,  0.1018081 ,  0.19434574, -0.04693558,  0.07777576,\n",
       "       -0.03679558, -0.16429524,  0.09376553,  0.10221837, -0.13956231,\n",
       "        0.10935035,  0.1214392 , -0.03252579, -0.15378116, -0.13700393,\n",
       "       -0.11829933, -0.0136986 , -0.1099779 ], dtype=float32)"
      ]
     },
     "execution_count": 12,
     "metadata": {},
     "output_type": "execute_result"
    }
   ],
   "source": [
    "b1"
   ]
  },
  {
   "cell_type": "code",
   "execution_count": 13,
   "metadata": {
    "collapsed": false
   },
   "outputs": [
    {
     "data": {
      "text/plain": [
       "array([[-0.12847827,  0.29370278, -0.08351583, ..., -0.02987729,\n",
       "        -0.0880971 , -0.22596164],\n",
       "       [-0.13654025, -0.035915  ,  0.12409417, ...,  0.11701564,\n",
       "        -0.17964108,  0.1287232 ],\n",
       "       [ 0.24820694, -0.14187121,  0.02569423, ..., -0.11094671,\n",
       "        -0.11373036,  0.04288781],\n",
       "       ..., \n",
       "       [-0.03775074,  0.20828493, -0.12403846, ...,  0.05365087,\n",
       "         0.14120229,  0.04952286],\n",
       "       [ 0.15462986, -0.02247178,  0.19852148, ..., -0.05360553,\n",
       "         0.12691095, -0.15063755],\n",
       "       [ 0.058429  ,  0.25508288,  0.16190569, ...,  0.12703905,\n",
       "         0.0633273 ,  0.04791488]], dtype=float32)"
      ]
     },
     "execution_count": 13,
     "metadata": {},
     "output_type": "execute_result"
    }
   ],
   "source": [
    "W2"
   ]
  },
  {
   "cell_type": "code",
   "execution_count": 14,
   "metadata": {
    "collapsed": false
   },
   "outputs": [
    {
     "data": {
      "text/plain": [
       "array([-0.0935614 ,  0.07063937,  0.04238594, -0.05118836,  0.02522801,\n",
       "        0.192449  , -0.0407309 ,  0.09841862, -0.17750598, -0.03880737], dtype=float32)"
      ]
     },
     "execution_count": 14,
     "metadata": {},
     "output_type": "execute_result"
    }
   ],
   "source": [
    "b2"
   ]
  },
  {
   "cell_type": "code",
   "execution_count": 15,
   "metadata": {
    "collapsed": false
   },
   "outputs": [
    {
     "data": {
      "text/plain": [
       "'funky_1'"
      ]
     },
     "execution_count": 15,
     "metadata": {},
     "output_type": "execute_result"
    }
   ],
   "source": [
    "act2.name #why funky_1?"
   ]
  },
  {
   "cell_type": "code",
   "execution_count": 16,
   "metadata": {
    "collapsed": true
   },
   "outputs": [],
   "source": [
    "#Not coding his attempt of using math..."
   ]
  },
  {
   "cell_type": "code",
   "execution_count": 17,
   "metadata": {
    "collapsed": true
   },
   "outputs": [],
   "source": [
    "# error: float requires"
   ]
  },
  {
   "cell_type": "code",
   "execution_count": null,
   "metadata": {
    "collapsed": true
   },
   "outputs": [],
   "source": []
  }
 ],
 "metadata": {
  "anaconda-cloud": {},
  "kernelspec": {
   "display_name": "Python [conda env:newkeras]",
   "language": "python",
   "name": "conda-env-newkeras-py"
  },
  "language_info": {
   "codemirror_mode": {
    "name": "ipython",
    "version": 2
   },
   "file_extension": ".py",
   "mimetype": "text/x-python",
   "name": "python",
   "nbconvert_exporter": "python",
   "pygments_lexer": "ipython2",
   "version": "2.7.12"
  }
 },
 "nbformat": 4,
 "nbformat_minor": 1
}
