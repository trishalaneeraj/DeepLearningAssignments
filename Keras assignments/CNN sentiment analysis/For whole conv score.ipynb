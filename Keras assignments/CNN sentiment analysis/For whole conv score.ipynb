{
 "cells": [
  {
   "cell_type": "code",
   "execution_count": 1,
   "metadata": {
    "collapsed": false
   },
   "outputs": [
    {
     "data": {
      "text/plain": [
       "'abc'"
      ]
     },
     "execution_count": 1,
     "metadata": {},
     "output_type": "execute_result"
    }
   ],
   "source": [
    "a = [\"a\",\"b\",\"c\"]\n",
    "\"\".join(a)"
   ]
  },
  {
   "cell_type": "code",
   "execution_count": 4,
   "metadata": {
    "collapsed": false
   },
   "outputs": [
    {
     "name": "stdout",
     "output_type": "stream",
     "text": [
      "['I would like to know  my remaining money in my account', 'Sure', \"it's Tracy Q\", 'Randall', 'account number is 805-7845-3895-061', 'It is ****', 'Yes', 'If I transfer it to my bank account in Lloyds of London', 'how long will it take?', 'Oh', 'I see', 'never mind', \"I'll just do it after the holidays\", 'Thanks for your help', 'Heather!']\n"
     ]
    }
   ],
   "source": [
    "import re\n",
    "def run():\n",
    "\tfile = open(\"1.txt\")\n",
    " \tret = []\n",
    "\twhile 1:\n",
    "\t\tline = file.readline()\n",
    "\t\tif not line:\n",
    "\t\t\tbreak\n",
    "\t\tif line[:8] == 'Customer':\n",
    "\t\t\tline = line[8:]\n",
    "\t\t\tline = line.strip()\n",
    "\t\t\tline = line.replace(',',';')\n",
    "\t\t\tline = line.replace('.',';')\n",
    "\t\t\tline = line.replace(':',';')\n",
    "\t\t\tret.extend(line.split(';'))\n",
    "\tres = []\n",
    "\tfor k in ret:\n",
    "\t\tif k.strip() != \"\":\n",
    "\t\t\tres.append(k.strip())\n",
    "\tprint res\n",
    "\treturn res\n",
    "\n",
    "def main():\n",
    "\trun()\n",
    "\n",
    "\n",
    "\n",
    "if __name__ == '__main__':\n",
    "\tmain()"
   ]
  },
  {
   "cell_type": "code",
   "execution_count": 5,
   "metadata": {
    "collapsed": false
   },
   "outputs": [
    {
     "name": "stdout",
     "output_type": "stream",
     "text": [
      "['I would like to know  my remaining money in my account', 'Sure', \"it's Tracy Q\", 'Randall', 'account number is 805-7845-3895-061', 'It is ****', 'Yes', 'If I transfer it to my bank account in Lloyds of London', 'how long will it take?', 'Oh', 'I see', 'never mind', \"I'll just do it after the holidays\", 'Thanks for your help', 'Heather!']\n"
     ]
    }
   ],
   "source": [
    "one = run()"
   ]
  },
  {
   "cell_type": "code",
   "execution_count": 6,
   "metadata": {
    "collapsed": true
   },
   "outputs": [],
   "source": [
    "one = \"\".join(one)"
   ]
  },
  {
   "cell_type": "code",
   "execution_count": 7,
   "metadata": {
    "collapsed": false
   },
   "outputs": [
    {
     "data": {
      "text/plain": [
       "\"I would like to know  my remaining money in my accountSureit's Tracy QRandallaccount number is 805-7845-3895-061It is ****YesIf I transfer it to my bank account in Lloyds of Londonhow long will it take?OhI seenever mindI'll just do it after the holidaysThanks for your helpHeather!\""
      ]
     },
     "execution_count": 7,
     "metadata": {},
     "output_type": "execute_result"
    }
   ],
   "source": [
    "one"
   ]
  },
  {
   "cell_type": "code",
   "execution_count": null,
   "metadata": {
    "collapsed": true
   },
   "outputs": [],
   "source": []
  }
 ],
 "metadata": {
  "kernelspec": {
   "display_name": "Python [newkeras]",
   "language": "python",
   "name": "Python [newkeras]"
  },
  "language_info": {
   "codemirror_mode": {
    "name": "ipython",
    "version": 2
   },
   "file_extension": ".py",
   "mimetype": "text/x-python",
   "name": "python",
   "nbconvert_exporter": "python",
   "pygments_lexer": "ipython2",
   "version": "2.7.12"
  }
 },
 "nbformat": 4,
 "nbformat_minor": 0
}
