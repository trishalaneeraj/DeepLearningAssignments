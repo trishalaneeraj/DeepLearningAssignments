{
 "cells": [
  {
   "cell_type": "markdown",
   "metadata": {},
   "source": [
    "## Importing libraries and packages"
   ]
  },
  {
   "cell_type": "code",
   "execution_count": 1,
   "metadata": {
    "collapsed": false
   },
   "outputs": [
    {
     "name": "stderr",
     "output_type": "stream",
     "text": [
      "Using Theano backend.\n"
     ]
    }
   ],
   "source": [
    "import numpy as np\n",
    "np.random.seed(1337)  # for reproducibility\n",
    "from keras.preprocessing import sequence\n",
    "from keras.models import Sequential\n",
    "from keras.layers import Dense, Dropout, Activation, Flatten\n",
    "from keras.layers import Embedding\n",
    "from keras.layers import Convolution1D, MaxPooling1D\n",
    "from keras.datasets import imdb\n",
    "from keras import backend as K"
   ]
  },
  {
   "cell_type": "code",
   "execution_count": 2,
   "metadata": {
    "collapsed": true
   },
   "outputs": [],
   "source": [
    "#embedding\n",
    "max_features = 5000\n",
    "maxlen = 400\n",
    "\n",
    "embedding_dims = 50\n",
    "\n",
    "#convolution\n",
    "nb_filter = 250\n",
    "filter_length = 3\n",
    "\n",
    "hidden_dims = 250\n",
    "\n",
    "#training\n",
    "nb_epoch = 2\n",
    "batch_size = 32"
   ]
  },
  {
   "cell_type": "markdown",
   "metadata": {},
   "source": [
    "## Loading Data"
   ]
  },
  {
   "cell_type": "code",
   "execution_count": 3,
   "metadata": {
    "collapsed": false
   },
   "outputs": [],
   "source": [
    "import pandas as pd\n",
    "data = pd.read_csv( \"labeledTrainData.tsv\", header=0, \n",
    " delimiter=\"\\t\", quoting=3, encoding=\"utf-8\" )"
   ]
  },
  {
   "cell_type": "code",
   "execution_count": 4,
   "metadata": {
    "collapsed": false
   },
   "outputs": [
    {
     "data": {
      "text/plain": [
       "(0    \"With all this stuff going down at the moment ...\n",
       " 1    \"\\\"The Classic War of the Worlds\\\" by Timothy ...\n",
       " 2    \"The film starts with a manager (Nicholas Bell...\n",
       " 3    \"It must be assumed that those who praised thi...\n",
       " 4    \"Superbly trashy and wondrously unpretentious ...\n",
       " Name: review, dtype: object, 0    1\n",
       " 1    1\n",
       " 2    0\n",
       " 3    0\n",
       " 4    1\n",
       " Name: sentiment, dtype: int64)"
      ]
     },
     "execution_count": 4,
     "metadata": {},
     "output_type": "execute_result"
    }
   ],
   "source": [
    "data['review'][0:5], data['sentiment'][0:5]"
   ]
  },
  {
   "cell_type": "markdown",
   "metadata": {},
   "source": [
    "## Cleaning data"
   ]
  },
  {
   "cell_type": "code",
   "execution_count": 5,
   "metadata": {
    "collapsed": true
   },
   "outputs": [],
   "source": [
    "import re\n",
    "k = []\n",
    "for i in data['review']:\n",
    "    k.append(i.encode('utf-8'))"
   ]
  },
  {
   "cell_type": "code",
   "execution_count": 6,
   "metadata": {
    "collapsed": false
   },
   "outputs": [],
   "source": [
    "from keras.preprocessing.text import Tokenizer, base_filter\n",
    "\n",
    "max_vocab_size = 50000\n",
    "tokenizer = Tokenizer(nb_words=max_vocab_size,\n",
    "                     filters=base_filter()+'“”–')\n",
    "\n",
    "tokenizer.fit_on_texts(k)\n",
    "X_train = []\n",
    "vocab_size = len(tokenizer.word_index) + 1\n",
    "for seq in tokenizer.texts_to_sequences(k):\n",
    "       X_train.append(seq)"
   ]
  },
  {
   "cell_type": "code",
   "execution_count": 7,
   "metadata": {
    "collapsed": false
   },
   "outputs": [
    {
     "name": "stdout",
     "output_type": "stream",
     "text": [
      "Pad sequences (samples x time)\n"
     ]
    }
   ],
   "source": [
    "print('Pad sequences (samples x time)')\n",
    "X_train = sequence.pad_sequences(X_train, maxlen=100)"
   ]
  },
  {
   "cell_type": "code",
   "execution_count": 8,
   "metadata": {
    "collapsed": false
   },
   "outputs": [
    {
     "name": "stdout",
     "output_type": "stream",
     "text": [
      "[1 1 0 ..., 0 0 1]\n"
     ]
    }
   ],
   "source": [
    "Y_train = np.asarray(list(data['sentiment']))\n",
    "print(Y_train)"
   ]
  },
  {
   "cell_type": "markdown",
   "metadata": {},
   "source": [
    "## Building model"
   ]
  },
  {
   "cell_type": "code",
   "execution_count": 9,
   "metadata": {
    "collapsed": false
   },
   "outputs": [],
   "source": [
    "model = Sequential()"
   ]
  },
  {
   "cell_type": "code",
   "execution_count": 10,
   "metadata": {
    "collapsed": true
   },
   "outputs": [],
   "source": [
    "model.add(Embedding(50000,\n",
    "                    embedding_dims,\n",
    "                    input_length=100,\n",
    "                    dropout=0.2))\n",
    "model.add(Convolution1D(nb_filter=32,\n",
    "                        filter_length=filter_length,\n",
    "                        border_mode='valid',\n",
    "                        activation='relu',\n",
    "                        subsample_length=1))\n",
    "model.add(MaxPooling1D(pool_length=model.output_shape[1]))\n",
    "model.add(Flatten())\n",
    "model.add(Dense(hidden_dims))\n",
    "model.add(Dropout(0.2))\n",
    "model.add(Activation('relu'))\n",
    "model.add(Dense(1))\n",
    "model.add(Activation('sigmoid'))"
   ]
  },
  {
   "cell_type": "code",
   "execution_count": 11,
   "metadata": {
    "collapsed": false
   },
   "outputs": [
    {
     "name": "stdout",
     "output_type": "stream",
     "text": [
      "Train on 20000 samples, validate on 5000 samples\n",
      "Epoch 1/2\n",
      "20000/20000 [==============================] - 31s - loss: 0.5154 - acc: 0.7287 - val_loss: 0.3957 - val_acc: 0.8266\n",
      "Epoch 2/2\n",
      "20000/20000 [==============================] - 45s - loss: 0.3434 - acc: 0.8501 - val_loss: 0.3636 - val_acc: 0.8382\n"
     ]
    },
    {
     "data": {
      "text/plain": [
       "<keras.callbacks.History at 0x129544fd0>"
      ]
     },
     "execution_count": 11,
     "metadata": {},
     "output_type": "execute_result"
    }
   ],
   "source": [
    "model.compile(loss='binary_crossentropy',\n",
    "              optimizer='adam',\n",
    "              metrics=['accuracy'])\n",
    "model.fit(X_train, Y_train,\n",
    "          batch_size=batch_size,\n",
    "          nb_epoch=nb_epoch,\n",
    "          validation_split=0.2)"
   ]
  },
  {
   "cell_type": "code",
   "execution_count": 12,
   "metadata": {
    "collapsed": false
   },
   "outputs": [
    {
     "data": {
      "text/plain": [
       "array([[ 0.70430762],\n",
       "       [ 0.65062225],\n",
       "       [ 0.08837233],\n",
       "       ..., \n",
       "       [ 0.01092899],\n",
       "       [ 0.4599663 ],\n",
       "       [ 0.97542989]], dtype=float32)"
      ]
     },
     "execution_count": 12,
     "metadata": {},
     "output_type": "execute_result"
    }
   ],
   "source": [
    "model.predict(X_train)"
   ]
  },
  {
   "cell_type": "markdown",
   "metadata": {
    "collapsed": true
   },
   "source": [
    "# Testing"
   ]
  },
  {
   "cell_type": "markdown",
   "metadata": {
    "collapsed": true
   },
   "source": [
    "### Segmented calls"
   ]
  },
  {
   "cell_type": "markdown",
   "metadata": {},
   "source": [
    "#### Creating segments of ALL 9 calls"
   ]
  },
  {
   "cell_type": "code",
   "execution_count": 13,
   "metadata": {
    "collapsed": false
   },
   "outputs": [
    {
     "name": "stdout",
     "output_type": "stream",
     "text": [
      "['I would like to know  my remaining money in my account', 'Sure', \"it's Tracy Q\", 'Randall', 'account number is 805-7845-3895-061', 'It is ****', 'Yes', 'If I transfer it to my bank account in Lloyds of London', 'how long will it take?', 'Oh', 'I see', 'never mind', \"I'll just do it after the holidays\", 'Thanks for your help', 'Heather!', 'This is John Perez', 'I want One Family size of Pepperoni and 2 Regular Supreme', 'Yep', 'deliver it at 745 Farmers Road', 'Modesto', 'California', 'Sure', \"I'll just pay it in cash once it's delivered\", 'I am calling because I received a wrong bill', 'I just paid my phone bill two days ago and my                    payment is not reflected in the bill', '5340036548', '5340036548', 'Maegan Simpson', 'July 23', '1974 and the account is under my name', 'Thank you', 'Ok I will', 'No thanks', 'Ok bye', 'Yeah', 'hi', 'My system is down and I need to speak with a technician', 'Fred', 'I\\xe2\\x80\\x99m with GoldStar Environmental', 'Yes ma\\xe2\\x80\\x99am', '610-265-1715', 'Yes', 'My agents aren\\xe2\\x80\\x99t able to make or receive any telephone calls', 'No', 'actually', 'I can\\xe2\\x80\\x99t even get an Internet connection', 'I have Verizon', 'Yeah that\\xe2\\x80\\x99s my cell', 'That is working', 'Thank you very much for your help', 'yes or no', 'Then we have to ask may I know whom I am speaking with?', 'ok', 'Go ahead', 'are you sure all local calls are for 45 paisa only?', 'But I already have two connections', 'What is the use of third one', 'ok', 'What do I have to do?', 'ok I have all these things ready', 'Ok', 'send your executive at 11 am tomorrow', 'You\\xe2\\x80\\x99re welcome', 'You too have a nice day', 'Bye', 'Hi', 'how are you Pawn?', 'Pawn', 'That\\xe2\\x80\\x99s a nice name', 'Not bad', 'have the day off work', 'Question \\xe2\\x80\\x93 on my latest bill', 'I had two charges for the Wrestler on Demand', 'The first didn\\xe2\\x80\\x99t work', 'so when I went back', 'it charged me a second time', 'OK', 'No', 'I just went back into it a second time b/c the first time didn\\xe2\\x80\\x99t work', 'it worked the second time', 'Hmm\\xe2\\x80\\xa6 I didn\\xe2\\x80\\x99t know about that contrived rule', 'and I didn\\xe2\\x80\\x99t think I\\xe2\\x80\\x99d be charged in the first place since the movie never worked', 'why would I pay twice for the same movie knowingly?', 'I am contacting you now to tell you', 'The movie did not work', 'Your service did not deliver as promised', 'so I should not have to pay for it', 'It\\xe2\\x80\\x99s only $2', '99', 'but it\\xe2\\x80\\x99s a matter of principle', 'Look', 'I know you have the power to extend a courtesy credit', 'It should not matter what date this happened', 'This is poor customer service', 'If you do not extend a credit for this', 'I\\xe2\\x80\\x99m going to cancel my Comcast service right now', 'I\\xe2\\x80\\x99ll give you the choice', 'Credit or Cancel', 'Up to you', '$2', '99 credit', 'Pawn', 'Make it easy on yourself and do the right thing', 'It does not matter what date this happened or when I am telling you about it', 'OK', 'go ahead and cancel my service', 'I\\xe2\\x80\\x99m tired of Comcast\\xe2\\x80\\x99s poor customer service and I don\\xe2\\x80\\x99t want to give you guys any more of my money', 'I\\xe2\\x80\\x99m also going to give this chat a poor rating when I\\xe2\\x80\\x99m done', 'Yes', 'That is what I\\xe2\\x80\\x99ve been asking for', 'Thank you', 'Yes', 'OMG \\xe2\\x80\\x94 please stop empathizing with me and just solve my problem!', 'Elizabeth [last name]', '[Account number]', '[Social security number]', 'You should save your upsell offers until after you solve my problem', \"I don't need backups\", 'A random password is fine', \"I don't have it\", 'Is there another option?', \"[Best friend's name]\", 'Thank you', 'Yes', 'hold on', 'That worked', 'thank you', 'Wanting to ask about upgrades', 'I am doing ok', 'yourself?', 'I am wanting to inquire about adding HD service and/or DVR to my existing plan', 'I am deciding whether to stay with comcast or move to AT&T', 'How much extra would it be to add HD alone? How much would it be to add HD and DVR? Is there a special pricing you can give to me as an existing customer no longer on contract?', 'There must be a typo in your last statement', '$15', '95!?', 'I contacted Comcast about a month or so ago and the young lady quoted me about $6', '00', 'Maybe you meant to type $5', '95?', 'Does that include DVR or just HD?', 'Ok', 'how about adding extra channels? Are there any options available for that?', 'How many? Which ones?', '?', 'So the HDHBO', 'HDStarz', 'and HDTMC are included free?', 'and when you say \"many more', '\" I would like to know specifically what channels', 'And what is the one more good thing?', 'I am not interested in 3D', 'thank you', 'I would like you to answer my above two questions', 'Would I be paying anything extra for the HBO and Starz on top of the $5', '95 extra? Do I only have those for 3 months as a free addon or is it included in the $5', '95 indefinitely?', 'And after 3 months? Can you please get to the chase? No need to beat around the bush', 'Those channels are not free and that is not a special deal if I have to pay for them', 'And from my understanding all the \"extra channels\" are just regular channels I already have but in \"HD', '\" am I correct?', 'And from my understanding all the \"extra channels\" are just regular channels I already have but in \"HD', '\" am I correct?', 'Ok', 'I am waiting for this link', 'Understood', 'Thanks', 'Link??', 'Which package type do I select from the drop down menu?', 'No', 'the link shows me all channels (963 of them)', 'From the drop down box', 'which package do I select? HD Digital Preferred? HD Digital Premiere? HD Digital Starter? Multilatino Ultra?', 'So if I add the $5', '95 HD service to my plan I have already', 'I would be considered to have the HD Digital Starter plan?', 'So the next step up would be the HD digital preferred? How much extra would I need to pay a month for that?', 'Ok', 'so If I add the $5', '95 HD addon', 'would I have to sign a contract or no?', 'Alright', 'Last question', 'what if I wanted to add DVR to the $5', '95 HD addon', 'how much would that be?', 'Would you happen to know how much my bill would be each month after taxes if I add the $5', '95? the $9', '95?', 'Thank you', 'Ok sounds good', 'I would like to add the HD and DVR $9', '95 addon', 'When does this start? Do I need to pick up the receiver? Does Comcast bring it to me?', 'Yes', 'Thanks', 'Fine', 'you probably have all the info you need from the previous chat', 'I would like to get this finalized as quick as possible', 'Yes', '******', 'If that is the $9', '95 add-on then yes', 'I have no idea what the means', 'I just spent a very long time with someone who said I just need to pay an extra $9', '95 a month for HD and DVR service upgrade', 'That is all I know and that is all I want', '?', 'Maiah', 'I would like to end this chat as quickly as possible', 'I have been talking with you all for a while now', 'I do not understand why I am being switched around to so many people and still have not been upgraded yet', 'I just spent almost two hours now finalizing this entire order and now you are telling me it is going to be $15', '95!? There is no way', 'I have above even the quoted monthly after taxes bill', 'I need to speak with a supervisor', 'This is ridiculous!', 'I need to speak to your supervisor', 'Two hours Maiah! Do not come in two minutes and change everything at the last second', 'That is not right one bit and I am extremely upset right now', '?????????????', 'Double check? Discount? You understand? This is not rocket science', 'The gentleman gave me the price of $9', '95 extra a month', 'I said yes', 'He connected me to get that added', \"I don't understand what the problem is and why it is taking so long\", 'I have now been connected with you for a half hour with still nothing to show Maiah', 'How convenient I receive all the \"wrong\" info and then when it is actually time to add it shoots up to $15', '95!? There should be no compensation or discount needed', 'The price should be $9', '95', 'simple as that', 'You must be out of your mind!! I need a supervisor this instance!', 'Do not talk to me anymore', 'Do not type anything else besides that you are connecting me to a supervisor', 'Why is it taking so long', 'Is there a delay in sending and receiving these messages???', 'Connect me to a supervisor', 'Connect me to a supervisor', 'Connect me to a supervisor', 'You better be typing that you are connecting me to s supervisor', 'Connect me to a supervisor', 'I did not ask for your explanation', 'I need to chat with a supervisor', 'I need a supervisor or I will be blogging this chat on tech forums to show the kind of customer service Comcast provides', 'hello', 'I bought simcity and told I cannot install it due to the product code already being used', 'is there anyway to get the code reset or am i out the money paid?', 'this is a very bad policy as I bought it NEW', 'and very bad customer service', 'I already bought it! What does a 15% discount do when I already paid $60 for it?', 'may i speak with your supervisor', 'please do', 'EA has just lost a customer for life', 'I will gladly post to every forum social networking site about this issue', 'and considering I asked to SPEAK to your supervisor and you come back with a reply', 'that is very bad customer service', 'shows where EA rates its customers', 'really?', 'i need the phone number for your corporate office and your employee id number']\n"
     ]
    }
   ],
   "source": [
    "import re\n",
    "def run():\n",
    "\tfile = open(\"allcalls.txt\")\n",
    " \tret = []\n",
    "\twhile 1:\n",
    "\t\tline = file.readline()\n",
    "\t\tif not line:\n",
    "\t\t\tbreak\n",
    "\t\tif line[:8] == 'Customer':\n",
    "\t\t\tline = line[8:]\n",
    "\t\t\tline = line.strip()\n",
    "\t\t\tline = line.replace(',',';')\n",
    "\t\t\tline = line.replace('.',';')\n",
    "\t\t\tline = line.replace(':',';')\n",
    "\t\t\tret.extend(line.split(';'))\n",
    "\tres = []\n",
    "\tfor k in ret:\n",
    "\t\tif k.strip() != \"\":\n",
    "\t\t\tres.append(k.strip())\n",
    "\tprint res\n",
    "\treturn res\n",
    "\n",
    "def main():\n",
    "\trun()\n",
    "\n",
    "\n",
    "\n",
    "if __name__ == '__main__':\n",
    "\tmain()"
   ]
  },
  {
   "cell_type": "code",
   "execution_count": 14,
   "metadata": {
    "collapsed": false
   },
   "outputs": [
    {
     "name": "stdout",
     "output_type": "stream",
     "text": [
      "['I would like to know  my remaining money in my account', 'Sure', \"it's Tracy Q\", 'Randall', 'account number is 805-7845-3895-061', 'It is ****', 'Yes', 'If I transfer it to my bank account in Lloyds of London', 'how long will it take?', 'Oh', 'I see', 'never mind', \"I'll just do it after the holidays\", 'Thanks for your help', 'Heather!', 'This is John Perez', 'I want One Family size of Pepperoni and 2 Regular Supreme', 'Yep', 'deliver it at 745 Farmers Road', 'Modesto', 'California', 'Sure', \"I'll just pay it in cash once it's delivered\", 'I am calling because I received a wrong bill', 'I just paid my phone bill two days ago and my                    payment is not reflected in the bill', '5340036548', '5340036548', 'Maegan Simpson', 'July 23', '1974 and the account is under my name', 'Thank you', 'Ok I will', 'No thanks', 'Ok bye', 'Yeah', 'hi', 'My system is down and I need to speak with a technician', 'Fred', 'I\\xe2\\x80\\x99m with GoldStar Environmental', 'Yes ma\\xe2\\x80\\x99am', '610-265-1715', 'Yes', 'My agents aren\\xe2\\x80\\x99t able to make or receive any telephone calls', 'No', 'actually', 'I can\\xe2\\x80\\x99t even get an Internet connection', 'I have Verizon', 'Yeah that\\xe2\\x80\\x99s my cell', 'That is working', 'Thank you very much for your help', 'yes or no', 'Then we have to ask may I know whom I am speaking with?', 'ok', 'Go ahead', 'are you sure all local calls are for 45 paisa only?', 'But I already have two connections', 'What is the use of third one', 'ok', 'What do I have to do?', 'ok I have all these things ready', 'Ok', 'send your executive at 11 am tomorrow', 'You\\xe2\\x80\\x99re welcome', 'You too have a nice day', 'Bye', 'Hi', 'how are you Pawn?', 'Pawn', 'That\\xe2\\x80\\x99s a nice name', 'Not bad', 'have the day off work', 'Question \\xe2\\x80\\x93 on my latest bill', 'I had two charges for the Wrestler on Demand', 'The first didn\\xe2\\x80\\x99t work', 'so when I went back', 'it charged me a second time', 'OK', 'No', 'I just went back into it a second time b/c the first time didn\\xe2\\x80\\x99t work', 'it worked the second time', 'Hmm\\xe2\\x80\\xa6 I didn\\xe2\\x80\\x99t know about that contrived rule', 'and I didn\\xe2\\x80\\x99t think I\\xe2\\x80\\x99d be charged in the first place since the movie never worked', 'why would I pay twice for the same movie knowingly?', 'I am contacting you now to tell you', 'The movie did not work', 'Your service did not deliver as promised', 'so I should not have to pay for it', 'It\\xe2\\x80\\x99s only $2', '99', 'but it\\xe2\\x80\\x99s a matter of principle', 'Look', 'I know you have the power to extend a courtesy credit', 'It should not matter what date this happened', 'This is poor customer service', 'If you do not extend a credit for this', 'I\\xe2\\x80\\x99m going to cancel my Comcast service right now', 'I\\xe2\\x80\\x99ll give you the choice', 'Credit or Cancel', 'Up to you', '$2', '99 credit', 'Pawn', 'Make it easy on yourself and do the right thing', 'It does not matter what date this happened or when I am telling you about it', 'OK', 'go ahead and cancel my service', 'I\\xe2\\x80\\x99m tired of Comcast\\xe2\\x80\\x99s poor customer service and I don\\xe2\\x80\\x99t want to give you guys any more of my money', 'I\\xe2\\x80\\x99m also going to give this chat a poor rating when I\\xe2\\x80\\x99m done', 'Yes', 'That is what I\\xe2\\x80\\x99ve been asking for', 'Thank you', 'Yes', 'OMG \\xe2\\x80\\x94 please stop empathizing with me and just solve my problem!', 'Elizabeth [last name]', '[Account number]', '[Social security number]', 'You should save your upsell offers until after you solve my problem', \"I don't need backups\", 'A random password is fine', \"I don't have it\", 'Is there another option?', \"[Best friend's name]\", 'Thank you', 'Yes', 'hold on', 'That worked', 'thank you', 'Wanting to ask about upgrades', 'I am doing ok', 'yourself?', 'I am wanting to inquire about adding HD service and/or DVR to my existing plan', 'I am deciding whether to stay with comcast or move to AT&T', 'How much extra would it be to add HD alone? How much would it be to add HD and DVR? Is there a special pricing you can give to me as an existing customer no longer on contract?', 'There must be a typo in your last statement', '$15', '95!?', 'I contacted Comcast about a month or so ago and the young lady quoted me about $6', '00', 'Maybe you meant to type $5', '95?', 'Does that include DVR or just HD?', 'Ok', 'how about adding extra channels? Are there any options available for that?', 'How many? Which ones?', '?', 'So the HDHBO', 'HDStarz', 'and HDTMC are included free?', 'and when you say \"many more', '\" I would like to know specifically what channels', 'And what is the one more good thing?', 'I am not interested in 3D', 'thank you', 'I would like you to answer my above two questions', 'Would I be paying anything extra for the HBO and Starz on top of the $5', '95 extra? Do I only have those for 3 months as a free addon or is it included in the $5', '95 indefinitely?', 'And after 3 months? Can you please get to the chase? No need to beat around the bush', 'Those channels are not free and that is not a special deal if I have to pay for them', 'And from my understanding all the \"extra channels\" are just regular channels I already have but in \"HD', '\" am I correct?', 'And from my understanding all the \"extra channels\" are just regular channels I already have but in \"HD', '\" am I correct?', 'Ok', 'I am waiting for this link', 'Understood', 'Thanks', 'Link??', 'Which package type do I select from the drop down menu?', 'No', 'the link shows me all channels (963 of them)', 'From the drop down box', 'which package do I select? HD Digital Preferred? HD Digital Premiere? HD Digital Starter? Multilatino Ultra?', 'So if I add the $5', '95 HD service to my plan I have already', 'I would be considered to have the HD Digital Starter plan?', 'So the next step up would be the HD digital preferred? How much extra would I need to pay a month for that?', 'Ok', 'so If I add the $5', '95 HD addon', 'would I have to sign a contract or no?', 'Alright', 'Last question', 'what if I wanted to add DVR to the $5', '95 HD addon', 'how much would that be?', 'Would you happen to know how much my bill would be each month after taxes if I add the $5', '95? the $9', '95?', 'Thank you', 'Ok sounds good', 'I would like to add the HD and DVR $9', '95 addon', 'When does this start? Do I need to pick up the receiver? Does Comcast bring it to me?', 'Yes', 'Thanks', 'Fine', 'you probably have all the info you need from the previous chat', 'I would like to get this finalized as quick as possible', 'Yes', '******', 'If that is the $9', '95 add-on then yes', 'I have no idea what the means', 'I just spent a very long time with someone who said I just need to pay an extra $9', '95 a month for HD and DVR service upgrade', 'That is all I know and that is all I want', '?', 'Maiah', 'I would like to end this chat as quickly as possible', 'I have been talking with you all for a while now', 'I do not understand why I am being switched around to so many people and still have not been upgraded yet', 'I just spent almost two hours now finalizing this entire order and now you are telling me it is going to be $15', '95!? There is no way', 'I have above even the quoted monthly after taxes bill', 'I need to speak with a supervisor', 'This is ridiculous!', 'I need to speak to your supervisor', 'Two hours Maiah! Do not come in two minutes and change everything at the last second', 'That is not right one bit and I am extremely upset right now', '?????????????', 'Double check? Discount? You understand? This is not rocket science', 'The gentleman gave me the price of $9', '95 extra a month', 'I said yes', 'He connected me to get that added', \"I don't understand what the problem is and why it is taking so long\", 'I have now been connected with you for a half hour with still nothing to show Maiah', 'How convenient I receive all the \"wrong\" info and then when it is actually time to add it shoots up to $15', '95!? There should be no compensation or discount needed', 'The price should be $9', '95', 'simple as that', 'You must be out of your mind!! I need a supervisor this instance!', 'Do not talk to me anymore', 'Do not type anything else besides that you are connecting me to a supervisor', 'Why is it taking so long', 'Is there a delay in sending and receiving these messages???', 'Connect me to a supervisor', 'Connect me to a supervisor', 'Connect me to a supervisor', 'You better be typing that you are connecting me to s supervisor', 'Connect me to a supervisor', 'I did not ask for your explanation', 'I need to chat with a supervisor', 'I need a supervisor or I will be blogging this chat on tech forums to show the kind of customer service Comcast provides', 'hello', 'I bought simcity and told I cannot install it due to the product code already being used', 'is there anyway to get the code reset or am i out the money paid?', 'this is a very bad policy as I bought it NEW', 'and very bad customer service', 'I already bought it! What does a 15% discount do when I already paid $60 for it?', 'may i speak with your supervisor', 'please do', 'EA has just lost a customer for life', 'I will gladly post to every forum social networking site about this issue', 'and considering I asked to SPEAK to your supervisor and you come back with a reply', 'that is very bad customer service', 'shows where EA rates its customers', 'really?', 'i need the phone number for your corporate office and your employee id number']\n"
     ]
    }
   ],
   "source": [
    "op = run()"
   ]
  },
  {
   "cell_type": "code",
   "execution_count": 15,
   "metadata": {
    "collapsed": true
   },
   "outputs": [],
   "source": [
    "import re\n",
    "l = []\n",
    "for i in op:\n",
    "    l.append(i)#.encode('utf-8'))"
   ]
  },
  {
   "cell_type": "code",
   "execution_count": 16,
   "metadata": {
    "collapsed": true
   },
   "outputs": [],
   "source": [
    "from keras.preprocessing.text import Tokenizer, base_filter\n",
    "\n",
    "max_vocab_size = 50000\n",
    "tokenizer = Tokenizer(nb_words=max_vocab_size,\n",
    "                     filters=base_filter()+'“”–')\n",
    "tokenizer.fit_on_texts(l)\n",
    "test2 = []\n",
    "vocab_size = len(tokenizer.word_index) + 1\n",
    "for seq in tokenizer.texts_to_sequences(l):\n",
    "       test2.append(seq)"
   ]
  },
  {
   "cell_type": "code",
   "execution_count": 17,
   "metadata": {
    "collapsed": false
   },
   "outputs": [
    {
     "name": "stdout",
     "output_type": "stream",
     "text": [
      "Pad sequences (samples x time)\n"
     ]
    }
   ],
   "source": [
    "print('Pad sequences (samples x time)')\n",
    "test2 = sequence.pad_sequences(test2, maxlen=100)"
   ]
  },
  {
   "cell_type": "code",
   "execution_count": 18,
   "metadata": {
    "collapsed": true
   },
   "outputs": [],
   "source": [
    "k5=model.predict(test2)"
   ]
  },
  {
   "cell_type": "code",
   "execution_count": 19,
   "metadata": {
    "collapsed": false
   },
   "outputs": [
    {
     "name": "stdout",
     "output_type": "stream",
     "text": [
      "256/261 [============================>.] - ETA: 0s"
     ]
    }
   ],
   "source": [
    "k5_bin = model.predict_classes(test2)"
   ]
  },
  {
   "cell_type": "code",
   "execution_count": 20,
   "metadata": {
    "collapsed": true
   },
   "outputs": [],
   "source": [
    "def bin2Scaled(magnitude):\n",
    "\t# This function converts a binary measurement (of sentiment analysis)\n",
    "\t# into a 7-point assesment as is used currently at Google.\n",
    "\treturn 1+magnitude*6"
   ]
  },
  {
   "cell_type": "markdown",
   "metadata": {},
   "source": [
    "##### Obtaining scaled score from all segments of all 9 calls."
   ]
  },
  {
   "cell_type": "code",
   "execution_count": 21,
   "metadata": {
    "collapsed": false
   },
   "outputs": [
    {
     "data": {
      "text/plain": [
       "array([ 6.04766464,  5.15589809,  6.18301249,  4.79773426,  6.76672649,\n",
       "        5.57815695,  4.87758303,  6.29207563,  5.47928143,  5.11838818,\n",
       "        5.02658081,  5.53126144,  5.609375  ,  2.26353526,  4.54394722,\n",
       "        6.20382833,  6.78534508,  4.91048908,  6.43428659,  4.94085598,\n",
       "        4.78712749,  5.15589809,  5.95059204,  5.55229235,  5.96836853,\n",
       "        4.94577885,  4.94577885,  5.11922741,  3.05053353,  5.29230595,\n",
       "        5.80120659,  5.19657612,  5.23361492,  4.00912762,  4.88805103,\n",
       "        5.46540213,  6.79944515,  5.4739852 ,  5.73249054,  5.11979628,\n",
       "        4.7159338 ,  4.87758303,  6.74354887,  5.06651354,  5.95406008,\n",
       "        3.5496881 ,  5.73711967,  5.54652977,  4.92176199,  3.44571424,\n",
       "        5.01355553,  6.77848625,  5.00209284,  3.71776319,  6.63403988,\n",
       "        5.5029459 ,  4.70837498,  5.00209284,  6.60815144,  5.11667585,\n",
       "        5.00209284,  4.30017042,  5.4095726 ,  6.37326622,  3.65052485,\n",
       "        5.46540213,  5.84488297,  4.8093853 ,  5.86236906,  4.95469284,\n",
       "        2.16327858,  6.62707663,  3.07486343,  5.42583179,  6.18571806,\n",
       "        5.13298416,  5.00209284,  5.06651354,  6.58149719,  5.32314062,\n",
       "        6.1051774 ,  5.46914196,  4.80150366,  6.06989956,  4.58638573,\n",
       "        4.36192322,  6.22529697,  6.35870361,  5.07017422,  4.03457499,\n",
       "        4.58265162,  5.14747   ,  3.63606739,  4.29474592,  4.41497278,\n",
       "        6.11584663,  5.5981493 ,  5.78256989,  5.27799416,  5.8328352 ,\n",
       "        5.49696112,  4.8093853 ,  6.36349344,  1.88233614,  5.00209284,\n",
       "        3.51599813,  4.8575449 ,  3.36117148,  4.87758303,  3.42524076,\n",
       "        5.80120659,  4.87758303,  5.92043495,  2.761868  ,  5.5205245 ,\n",
       "        4.90214872,  6.72432852,  5.71785355,  1.67722809,  6.04090166,\n",
       "        5.45175648,  3.49665499,  5.80120659,  4.87758303,  6.2886343 ,\n",
       "        4.35711193,  5.80120659,  6.32182026,  4.39807272,  5.00763035,\n",
       "        6.28539467,  6.40867853,  4.22997713,  1.8727715 ,  4.78166389,\n",
       "        4.98025036,  5.59004021,  4.52167892,  5.76186323,  4.98025036,\n",
       "        6.111691  ,  5.00209284,  6.66081953,  2.20744562,  4.91048908,\n",
       "        5.08909798,  4.88009167,  6.33120394,  1.74433422,  5.29297733,\n",
       "        3.66248178,  4.37933731,  5.80120659,  6.14245987,  4.99545956,\n",
       "        5.13653374,  2.99670815,  6.68789577,  5.05344439,  6.08338261,\n",
       "        4.27737236,  6.08338261,  4.27737236,  5.00209284,  3.21677256,\n",
       "        4.93616104,  5.02382469,  5.19773197,  2.11123371,  5.06651354,\n",
       "        6.45838165,  2.08884907,  2.53405166,  3.57559776,  6.19653416,\n",
       "        5.26683044,  1.22968388,  5.00209284,  3.57559776,  5.10431576,\n",
       "        5.82196856,  4.85699701,  3.93281484,  6.59598875,  5.10431576,\n",
       "        5.35378599,  6.19984722,  5.28354263,  4.98025036,  5.80120659,\n",
       "        3.44245505,  5.18463755,  5.39751768,  6.15386295,  4.87758303,\n",
       "        5.02382469,  5.24661827,  6.43165588,  5.08798313,  4.87758303,\n",
       "        4.91048908,  5.38467979,  2.58046079,  6.14004612,  5.91527939,\n",
       "        4.93488884,  5.7618804 ,  4.91048908,  4.91808796,  5.88311958,\n",
       "        5.78808975,  5.65117455,  3.94427967,  4.73102665,  6.61479139,\n",
       "        6.50508547,  5.05817699,  6.47678852,  1.76207614,  3.56949949,\n",
       "        4.91048908,  3.3217113 ,  5.38268471,  4.90352917,  5.04511833,\n",
       "        5.97823763,  4.56591082,  6.42839146,  5.98701572,  6.08341789,\n",
       "        6.44486237,  4.98025036,  4.16456175,  5.62752104,  6.03217125,\n",
       "        5.49741745,  6.06131935,  4.18829346,  6.67303896,  6.67303896,\n",
       "        6.67303896,  6.56608963,  6.67303896,  3.60416269,  6.34974194,\n",
       "        6.5882206 ,  5.53925228,  2.42995501,  5.84974241,  4.8474369 ,\n",
       "        6.54083443,  5.6740942 ,  5.30505276,  6.30578041,  3.60922956,\n",
       "        6.10151815,  6.02351522,  6.37619066,  5.02614069,  5.49507999,  0.        ])"
      ]
     },
     "execution_count": 21,
     "metadata": {},
     "output_type": "execute_result"
    }
   ],
   "source": [
    "scaledScore = np.zeros(len(k5_bin))\n",
    "for i in range(0,len(k5_bin)-1):\n",
    "    scaledScore[i] = bin2Scaled(k5[i])\n",
    "scaledScore"
   ]
  },
  {
   "cell_type": "markdown",
   "metadata": {},
   "source": [
    "## Whole conversation (9 calls -> 9 sentiments)"
   ]
  },
  {
   "cell_type": "code",
   "execution_count": 22,
   "metadata": {
    "collapsed": true
   },
   "outputs": [],
   "source": [
    "d = pd.read_csv(\"dialogs.csv\")"
   ]
  },
  {
   "cell_type": "code",
   "execution_count": 23,
   "metadata": {
    "collapsed": false
   },
   "outputs": [
    {
     "data": {
      "text/plain": [
       "0    I would like to know  my remaining money in my...\n",
       "1    This is John Perez I want One Family size of P...\n",
       "2    I am calling because I received a wrong bill I...\n",
       "3    Yeah hi My system is down and I need to speak ...\n",
       "4    yes or no Then we have to ask may I know whom ...\n",
       "5    Pawn That\\xe2\\x80\\x99s a nice name Not bad hav...\n",
       "6    Yes OMG \\xe2\\x80\\x94 please stop empathizing w...\n",
       "7    I am doing ok yourself? I am wanting to inquir...\n",
       "8    hello I bought simcity and told I cannot insta...\n",
       "Name: dialogs, dtype: object"
      ]
     },
     "execution_count": 23,
     "metadata": {},
     "output_type": "execute_result"
    }
   ],
   "source": [
    "d[\"dialogs\"]"
   ]
  },
  {
   "cell_type": "code",
   "execution_count": 24,
   "metadata": {
    "collapsed": true
   },
   "outputs": [],
   "source": [
    "import re\n",
    "calls = []\n",
    "for i in d[\"dialogs\"]:\n",
    "    calls.append(i.encode('utf-8'))"
   ]
  },
  {
   "cell_type": "code",
   "execution_count": 25,
   "metadata": {
    "collapsed": true
   },
   "outputs": [],
   "source": [
    "from keras.preprocessing.text import Tokenizer, base_filter\n",
    "\n",
    "max_vocab_size = 50000\n",
    "tokenizer = Tokenizer(nb_words=max_vocab_size,\n",
    "                     filters=base_filter()+'“”–')\n",
    "tokenizer.fit_on_texts(calls)\n",
    "test3 = []\n",
    "vocab_size = len(tokenizer.word_index) + 1\n",
    "for seq in tokenizer.texts_to_sequences(calls):\n",
    "       test3.append(seq)"
   ]
  },
  {
   "cell_type": "code",
   "execution_count": 26,
   "metadata": {
    "collapsed": false
   },
   "outputs": [
    {
     "name": "stdout",
     "output_type": "stream",
     "text": [
      "Pad sequences (samples x time)\n"
     ]
    }
   ],
   "source": [
    "print('Pad sequences (samples x time)')\n",
    "test3 = sequence.pad_sequences(test3, maxlen=100)"
   ]
  },
  {
   "cell_type": "code",
   "execution_count": 27,
   "metadata": {
    "collapsed": true
   },
   "outputs": [],
   "source": [
    "k6=model.predict(test3)"
   ]
  },
  {
   "cell_type": "code",
   "execution_count": 28,
   "metadata": {
    "collapsed": false
   },
   "outputs": [
    {
     "name": "stdout",
     "output_type": "stream",
     "text": [
      "9/9 [==============================] - 0s\n"
     ]
    }
   ],
   "source": [
    "k6_bin = model.predict_classes(test3)"
   ]
  },
  {
   "cell_type": "code",
   "execution_count": 29,
   "metadata": {
    "collapsed": false
   },
   "outputs": [
    {
     "data": {
      "text/plain": [
       "array([ 1.55943871,  3.77648735,  1.49133146,  4.12481976,  2.09334517,\n",
       "        2.42979455,  2.25291586,  2.79293728,  2.60506821])"
      ]
     },
     "execution_count": 29,
     "metadata": {},
     "output_type": "execute_result"
    }
   ],
   "source": [
    "scaledScore = np.zeros(len(k6_bin))\n",
    "for i in range(0,len(k6_bin)):\n",
    "    scaledScore[i] = bin2Scaled(k6[i])\n",
    "scaledScore"
   ]
  },
  {
   "cell_type": "markdown",
   "metadata": {},
   "source": [
    "## The one with largest no of segments (Call #8)"
   ]
  },
  {
   "cell_type": "code",
   "execution_count": 30,
   "metadata": {
    "collapsed": false
   },
   "outputs": [
    {
     "name": "stdout",
     "output_type": "stream",
     "text": [
      "['I am doing ok', 'yourself?', 'I am wanting to inquire about adding HD service and/or DVR to my existing plan', 'I am deciding whether to stay with comcast or move to AT&T', 'How much extra would it be to add HD alone? How much would it be to add HD and DVR? Is there a special pricing you can give to me as an existing customer no longer on contract?', 'There must be a typo in your last statement', '$15', '95!?', 'I contacted Comcast about a month or so ago and the young lady quoted me about $6', '00', 'Maybe you meant to type $5', '95?', 'Does that include DVR or just HD?', 'Ok', 'how about adding extra channels? Are there any options available for that?', 'How many? Which ones?', '?', 'So the HDHBO', 'HDStarz', 'and HDTMC are included free?', 'and when you say \"many more', '\" I would like to know specifically what channels', 'And what is the one more good thing?', 'I am not interested in 3D', 'thank you', 'I would like you to answer my above two questions', 'Would I be paying anything extra for the HBO and Starz on top of the $5', '95 extra? Do I only have those for 3 months as a free addon or is it included in the $5', '95 indefinitely?', 'And after 3 months? Can you please get to the chase? No need to beat around the bush', 'Those channels are not free and that is not a special deal if I have to pay for them', 'And from my understanding all the \"extra channels\" are just regular channels I already have but in \"HD', '\" am I correct?', 'And from my understanding all the \"extra channels\" are just regular channels I already have but in \"HD', '\" am I correct?', 'Ok', 'I am waiting for this link', 'Understood', 'Thanks', 'Link??', 'Which package type do I select from the drop down menu?', 'No', 'the link shows me all channels (963 of them)', 'From the drop down box', 'which package do I select? HD Digital Preferred? HD Digital Premiere? HD Digital Starter? Multilatino Ultra?', 'So if I add the $5', '95 HD service to my plan I have already', 'I would be considered to have the HD Digital Starter plan?', 'So the next step up would be the HD digital preferred? How much extra would I need to pay a month for that?', 'Ok', 'so If I add the $5', '95 HD addon', 'would I have to sign a contract or no?', 'Alright', 'Last question', 'what if I wanted to add DVR to the $5', '95 HD addon', 'how much would that be?', 'Would you happen to know how much my bill would be each month after taxes if I add the $5', '95? the $9', '95?', 'Thank you', 'Ok sounds good', 'I would like to add the HD and DVR $9', '95 addon', 'When does this start? Do I need to pick up the receiver? Does Comcast bring it to me?', 'Yes', 'Thanks', 'Fine', 'you probably have all the info you need from the previous chat', 'I would like to get this finalized as quick as possible', 'Yes', '******', 'If that is the $9', '95 add-on then yes', 'I have no idea what the means', 'I just spent a very long time with someone who said I just need to pay an extra $9', '95 a month for HD and DVR service upgrade', 'That is all I know and that is all I want', '?', 'Maiah', 'I would like to end this chat as quickly as possible', 'I have been talking with you all for a while now', 'I do not understand why I am being switched around to so many people and still have not been upgraded yet', 'I just spent almost two hours now finalizing this entire order and now you are telling me it is going to be $15', '95!? There is no way', 'I have above even the quoted monthly after taxes bill', 'I need to speak with a supervisor', 'This is ridiculous!', 'I need to speak to your supervisor', 'Two hours Maiah! Do not come in two minutes and change everything at the last second', 'That is not right one bit and I am extremely upset right now', '?????????????', 'Double check? Discount? You understand? This is not rocket science', 'The gentleman gave me the price of $9', '95 extra a month', 'I said yes', 'He connected me to get that added', \"I don't understand what the problem is and why it is taking so long\", 'I have now been connected with you for a half hour with still nothing to show Maiah', 'How convenient I receive all the \"wrong\" info and then when it is actually time to add it shoots up to $15', '95!? There should be no compensation or discount needed', 'The price should be $9', '95', 'simple as that', 'You must be out of your mind!! I need a supervisor this instance!', 'Do not talk to me anymore', 'Do not type anything else besides that you are connecting me to a supervisor', 'Why is it taking so long', 'Is there a delay in sending and receiving these messages???', 'Connect me to a supervisor', 'Connect me to a supervisor', 'Connect me to a supervisor', 'You better be typing that you are connecting me to s supervisor', 'Connect me to a supervisor', 'I did not ask for your explanation', 'I need to chat with a supervisor', 'I need a supervisor or I will be blogging this chat on tech forums to show the kind of customer service Comcast provides']\n"
     ]
    }
   ],
   "source": [
    "import re\n",
    "def run():\n",
    "\tfile = open(\"8.txt\")\n",
    " \tret = []\n",
    "\twhile 1:\n",
    "\t\tline = file.readline()\n",
    "\t\tif not line:\n",
    "\t\t\tbreak\n",
    "\t\tif line[:8] == 'Customer':\n",
    "\t\t\tline = line[8:]\n",
    "\t\t\tline = line.strip()\n",
    "\t\t\tline = line.replace(',',';')\n",
    "\t\t\tline = line.replace('.',';')\n",
    "\t\t\tline = line.replace(':',';')\n",
    "\t\t\tret.extend(line.split(';'))\n",
    "\tres = []\n",
    "\tfor k in ret:\n",
    "\t\tif k.strip() != \"\":\n",
    "\t\t\tres.append(k.strip())\n",
    "\tprint res\n",
    "\treturn res\n",
    "\n",
    "def main():\n",
    "\trun()\n",
    "\n",
    "\n",
    "\n",
    "if __name__ == '__main__':\n",
    "\tmain()"
   ]
  },
  {
   "cell_type": "code",
   "execution_count": 31,
   "metadata": {
    "collapsed": false
   },
   "outputs": [
    {
     "name": "stdout",
     "output_type": "stream",
     "text": [
      "['I am doing ok', 'yourself?', 'I am wanting to inquire about adding HD service and/or DVR to my existing plan', 'I am deciding whether to stay with comcast or move to AT&T', 'How much extra would it be to add HD alone? How much would it be to add HD and DVR? Is there a special pricing you can give to me as an existing customer no longer on contract?', 'There must be a typo in your last statement', '$15', '95!?', 'I contacted Comcast about a month or so ago and the young lady quoted me about $6', '00', 'Maybe you meant to type $5', '95?', 'Does that include DVR or just HD?', 'Ok', 'how about adding extra channels? Are there any options available for that?', 'How many? Which ones?', '?', 'So the HDHBO', 'HDStarz', 'and HDTMC are included free?', 'and when you say \"many more', '\" I would like to know specifically what channels', 'And what is the one more good thing?', 'I am not interested in 3D', 'thank you', 'I would like you to answer my above two questions', 'Would I be paying anything extra for the HBO and Starz on top of the $5', '95 extra? Do I only have those for 3 months as a free addon or is it included in the $5', '95 indefinitely?', 'And after 3 months? Can you please get to the chase? No need to beat around the bush', 'Those channels are not free and that is not a special deal if I have to pay for them', 'And from my understanding all the \"extra channels\" are just regular channels I already have but in \"HD', '\" am I correct?', 'And from my understanding all the \"extra channels\" are just regular channels I already have but in \"HD', '\" am I correct?', 'Ok', 'I am waiting for this link', 'Understood', 'Thanks', 'Link??', 'Which package type do I select from the drop down menu?', 'No', 'the link shows me all channels (963 of them)', 'From the drop down box', 'which package do I select? HD Digital Preferred? HD Digital Premiere? HD Digital Starter? Multilatino Ultra?', 'So if I add the $5', '95 HD service to my plan I have already', 'I would be considered to have the HD Digital Starter plan?', 'So the next step up would be the HD digital preferred? How much extra would I need to pay a month for that?', 'Ok', 'so If I add the $5', '95 HD addon', 'would I have to sign a contract or no?', 'Alright', 'Last question', 'what if I wanted to add DVR to the $5', '95 HD addon', 'how much would that be?', 'Would you happen to know how much my bill would be each month after taxes if I add the $5', '95? the $9', '95?', 'Thank you', 'Ok sounds good', 'I would like to add the HD and DVR $9', '95 addon', 'When does this start? Do I need to pick up the receiver? Does Comcast bring it to me?', 'Yes', 'Thanks', 'Fine', 'you probably have all the info you need from the previous chat', 'I would like to get this finalized as quick as possible', 'Yes', '******', 'If that is the $9', '95 add-on then yes', 'I have no idea what the means', 'I just spent a very long time with someone who said I just need to pay an extra $9', '95 a month for HD and DVR service upgrade', 'That is all I know and that is all I want', '?', 'Maiah', 'I would like to end this chat as quickly as possible', 'I have been talking with you all for a while now', 'I do not understand why I am being switched around to so many people and still have not been upgraded yet', 'I just spent almost two hours now finalizing this entire order and now you are telling me it is going to be $15', '95!? There is no way', 'I have above even the quoted monthly after taxes bill', 'I need to speak with a supervisor', 'This is ridiculous!', 'I need to speak to your supervisor', 'Two hours Maiah! Do not come in two minutes and change everything at the last second', 'That is not right one bit and I am extremely upset right now', '?????????????', 'Double check? Discount? You understand? This is not rocket science', 'The gentleman gave me the price of $9', '95 extra a month', 'I said yes', 'He connected me to get that added', \"I don't understand what the problem is and why it is taking so long\", 'I have now been connected with you for a half hour with still nothing to show Maiah', 'How convenient I receive all the \"wrong\" info and then when it is actually time to add it shoots up to $15', '95!? There should be no compensation or discount needed', 'The price should be $9', '95', 'simple as that', 'You must be out of your mind!! I need a supervisor this instance!', 'Do not talk to me anymore', 'Do not type anything else besides that you are connecting me to a supervisor', 'Why is it taking so long', 'Is there a delay in sending and receiving these messages???', 'Connect me to a supervisor', 'Connect me to a supervisor', 'Connect me to a supervisor', 'You better be typing that you are connecting me to s supervisor', 'Connect me to a supervisor', 'I did not ask for your explanation', 'I need to chat with a supervisor', 'I need a supervisor or I will be blogging this chat on tech forums to show the kind of customer service Comcast provides']\n"
     ]
    }
   ],
   "source": [
    "hg = run()"
   ]
  },
  {
   "cell_type": "code",
   "execution_count": 32,
   "metadata": {
    "collapsed": true
   },
   "outputs": [],
   "source": [
    "import re\n",
    "max = []\n",
    "for i in hg:\n",
    "    max.append(i.encode('utf-8'))"
   ]
  },
  {
   "cell_type": "code",
   "execution_count": 33,
   "metadata": {
    "collapsed": true
   },
   "outputs": [],
   "source": [
    "from keras.preprocessing.text import Tokenizer, base_filter\n",
    "\n",
    "max_vocab_size = 50000\n",
    "\n",
    "# `filters` specify what characters to get rid of\n",
    "# `base_filter()` includes basic punctuation;\n",
    "# I like to extend it with common unicode punctuation\n",
    "tokenizer = Tokenizer(nb_words=max_vocab_size,\n",
    "                     filters=base_filter()+'“”–')\n",
    "\n",
    "# fit the tokenizer\n",
    "tokenizer.fit_on_texts(max)\n",
    "test_max = []\n",
    "# we also want to keep track of the actual vocab size\n",
    "# we'll need this later\n",
    "# note: we add one because `0` is a reserved index in keras' tokenizer\n",
    "vocab_size = len(tokenizer.word_index) + 1\n",
    "for seq in tokenizer.texts_to_sequences(max):\n",
    "       test_max.append(seq)"
   ]
  },
  {
   "cell_type": "code",
   "execution_count": 34,
   "metadata": {
    "collapsed": false
   },
   "outputs": [
    {
     "name": "stdout",
     "output_type": "stream",
     "text": [
      "Pad sequences (samples x time)\n"
     ]
    }
   ],
   "source": [
    "print('Pad sequences (samples x time)')\n",
    "test_max = sequence.pad_sequences(test_max, maxlen=100)"
   ]
  },
  {
   "cell_type": "code",
   "execution_count": 35,
   "metadata": {
    "collapsed": true
   },
   "outputs": [],
   "source": [
    "h=model.predict(test_max)"
   ]
  },
  {
   "cell_type": "code",
   "execution_count": 36,
   "metadata": {
    "collapsed": false
   },
   "outputs": [
    {
     "data": {
      "text/plain": [
       "array([[ 0.85624725],\n",
       "       [ 0.58896321],\n",
       "       [ 0.73949665],\n",
       "       [ 0.95912975],\n",
       "       [ 0.83639282],\n",
       "       [ 0.74930257],\n",
       "       [ 0.65324247],\n",
       "       [ 0.69080162],\n",
       "       [ 0.60470635],\n",
       "       [ 0.64779443],\n",
       "       [ 0.56965792],\n",
       "       [ 0.69080162],\n",
       "       [ 0.69204199],\n",
       "       [ 0.6649394 ],\n",
       "       [ 0.46089903],\n",
       "       [ 0.64447361],\n",
       "       [ 0.65174818],\n",
       "       [ 0.6616528 ],\n",
       "       [ 0.60447258],\n",
       "       [ 0.42961124],\n",
       "       [ 0.31392112],\n",
       "       [ 0.88930011],\n",
       "       [ 0.90594763],\n",
       "       [ 0.68473691],\n",
       "       [ 0.68770593],\n",
       "       [ 0.51950604],\n",
       "       [ 0.29415703],\n",
       "       [ 0.17757387],\n",
       "       [ 0.76481646],\n",
       "       [ 0.3028959 ],\n",
       "       [ 0.06503688],\n",
       "       [ 0.57646489],\n",
       "       [ 0.85670274],\n",
       "       [ 0.57646495],\n",
       "       [ 0.85670274],\n",
       "       [ 0.6649394 ],\n",
       "       [ 0.34669504],\n",
       "       [ 0.69061416],\n",
       "       [ 0.6981889 ],\n",
       "       [ 0.6204071 ],\n",
       "       [ 0.95529681],\n",
       "       [ 0.69067615],\n",
       "       [ 0.76199269],\n",
       "       [ 0.82062954],\n",
       "       [ 0.95248872],\n",
       "       [ 0.73760521],\n",
       "       [ 0.94056028],\n",
       "       [ 0.96453279],\n",
       "       [ 0.68476856],\n",
       "       [ 0.6649394 ],\n",
       "       [ 0.73760521],\n",
       "       [ 0.8340081 ],\n",
       "       [ 0.11578628],\n",
       "       [ 0.65703416],\n",
       "       [ 0.72996819],\n",
       "       [ 0.83783031],\n",
       "       [ 0.8340081 ],\n",
       "       [ 0.58760434],\n",
       "       [ 0.77123958],\n",
       "       [ 0.86747283],\n",
       "       [ 0.69080162],\n",
       "       [ 0.68770593],\n",
       "       [ 0.42067853],\n",
       "       [ 0.90203267],\n",
       "       [ 0.70573324],\n",
       "       [ 0.51151448],\n",
       "       [ 0.74393678],\n",
       "       [ 0.6981889 ],\n",
       "       [ 0.64889097],\n",
       "       [ 0.8378635 ],\n",
       "       [ 0.69198203],\n",
       "       [ 0.74393678],\n",
       "       [ 0.65174818],\n",
       "       [ 0.48996392],\n",
       "       [ 0.81335706],\n",
       "       [ 0.70663679],\n",
       "       [ 0.64757019],\n",
       "       [ 0.88434762],\n",
       "       [ 0.52961123],\n",
       "       [ 0.65174818],\n",
       "       [ 0.66888267],\n",
       "       [ 0.76888496],\n",
       "       [ 0.8620559 ],\n",
       "       [ 0.75138819],\n",
       "       [ 0.59046549],\n",
       "       [ 0.74353224],\n",
       "       [ 0.24242441],\n",
       "       [ 0.92355776],\n",
       "       [ 0.59356064],\n",
       "       [ 0.95540011],\n",
       "       [ 0.61615312],\n",
       "       [ 0.60837638],\n",
       "       [ 0.65174818],\n",
       "       [ 0.33063018],\n",
       "       [ 0.17543581],\n",
       "       [ 0.6143859 ],\n",
       "       [ 0.79175186],\n",
       "       [ 0.7907635 ],\n",
       "       [ 0.66803837],\n",
       "       [ 0.94465995],\n",
       "       [ 0.49229851],\n",
       "       [ 0.56046724],\n",
       "       [ 0.47359756],\n",
       "       [ 0.69080162],\n",
       "       [ 0.81761187],\n",
       "       [ 0.70369631],\n",
       "       [ 0.9496963 ],\n",
       "       [ 0.70974565],\n",
       "       [ 0.41438308],\n",
       "       [ 0.71613371],\n",
       "       [ 0.82517225],\n",
       "       [ 0.82517225],\n",
       "       [ 0.82517225],\n",
       "       [ 0.64523721],\n",
       "       [ 0.82517225],\n",
       "       [ 0.76632464],\n",
       "       [ 0.81581801],\n",
       "       [ 0.90177464]], dtype=float32)"
      ]
     },
     "execution_count": 36,
     "metadata": {},
     "output_type": "execute_result"
    }
   ],
   "source": [
    "h"
   ]
  },
  {
   "cell_type": "code",
   "execution_count": 37,
   "metadata": {
    "collapsed": false
   },
   "outputs": [
    {
     "data": {
      "text/plain": [
       "[<matplotlib.lines.Line2D at 0x11e89f650>]"
      ]
     },
     "execution_count": 37,
     "metadata": {},
     "output_type": "execute_result"
    },
    {
     "data": {
      "image/png": "[encoded data removed]",
      "text/plain": [
       "<matplotlib.figure.Figure at 0x1195d3b10>"
      ]
     },
     "metadata": {},
     "output_type": "display_data"
    }
   ],
   "source": [
    "a = []\n",
    "b = []\n",
    "index = 0\n",
    "for t in h:\n",
    "    b.append(index)\n",
    "    index = index + 1\n",
    "    a.append(t[0])\n",
    "import matplotlib\n",
    "import matplotlib.pyplot as plt\n",
    "%matplotlib inline\n",
    "plt.plot(b,a)"
   ]
  },
  {
   "cell_type": "code",
   "execution_count": 38,
   "metadata": {
    "collapsed": false
   },
   "outputs": [
    {
     "name": "stdout",
     "output_type": "stream",
     "text": [
      "118/118 [==============================] - 0s     \n"
     ]
    }
   ],
   "source": [
    "h_bin = model.predict_classes(test_max)"
   ]
  },
  {
   "cell_type": "code",
   "execution_count": null,
   "metadata": {
    "collapsed": true
   },
   "outputs": [],
   "source": []
  }
 ],
 "metadata": {
  "anaconda-cloud": {},
  "kernelspec": {
   "display_name": "Python [newkeras]",
   "language": "python",
   "name": "Python [newkeras]"
  },
  "language_info": {
   "codemirror_mode": {
    "name": "ipython",
    "version": 2
   },
   "file_extension": ".py",
   "mimetype": "text/x-python",
   "name": "python",
   "nbconvert_exporter": "python",
   "pygments_lexer": "ipython2",
   "version": "2.7.12"
  }
 },
 "nbformat": 4,
 "nbformat_minor": 1
}
