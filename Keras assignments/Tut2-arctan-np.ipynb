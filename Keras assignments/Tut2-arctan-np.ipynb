{
 "cells": [
  {
   "cell_type": "code",
   "execution_count": 1,
   "metadata": {
    "collapsed": false
   },
   "outputs": [
    {
     "name": "stderr",
     "output_type": "stream",
     "text": [
      "Using Theano backend.\n"
     ]
    }
   ],
   "source": [
    "import keras"
   ]
  },
  {
   "cell_type": "code",
   "execution_count": 2,
   "metadata": {
    "collapsed": true
   },
   "outputs": [],
   "source": [
    "import numpy as np\n",
    "from keras.datasets import mnist\n",
    "from keras.models import Sequential\n",
    "from keras.layers.core import Dense, Dropout, Activation\n",
    "from keras.optimizers import SGD, Adam, RMSprop\n",
    "from keras.utils import np_utils"
   ]
  },
  {
   "cell_type": "code",
   "execution_count": 3,
   "metadata": {
    "collapsed": true
   },
   "outputs": [],
   "source": [
    "from keras.layers.advanced_activations import LeakyReLU\n",
    "from custom_activations import funky"
   ]
  },
  {
   "cell_type": "code",
   "execution_count": 4,
   "metadata": {
    "collapsed": true
   },
   "outputs": [],
   "source": [
    "act1 = LeakyReLU()"
   ]
  },
  {
   "cell_type": "code",
   "execution_count": 5,
   "metadata": {
    "collapsed": true
   },
   "outputs": [],
   "source": [
    "act2 = funky()"
   ]
  },
  {
   "cell_type": "code",
   "execution_count": 6,
   "metadata": {
    "collapsed": false
   },
   "outputs": [],
   "source": [
    "model = Sequential()\n",
    "model.add(Dense(128, input_shape=(784,)))\n",
    "model.add(Activation(act2))\n",
    "model.add(Dense(10))\n",
    "model.add(Activation('softmax'))\n",
    "sgd = SGD()"
   ]
  },
  {
   "cell_type": "code",
   "execution_count": 7,
   "metadata": {
    "collapsed": true
   },
   "outputs": [],
   "source": [
    "(X_train, y_train), (X_test, y_test) = mnist.load_data()\n",
    "X_train = X_train.reshape(60000, 784)\n",
    "X_test = X_test.reshape(10000, 784)\n",
    "X_train = X_train.astype('float32')\n",
    "X_test = X_test.astype('float32')\n",
    "X_train /= 255\n",
    "X_test /= 255\n",
    "#print(X_train.shape[0], 'train samples')\n",
    "#print(X_test.shape[0], 'test samples')\n",
    "\n",
    "#convert class vectors to binary class matrices\n",
    "nb_classes = 10\n",
    "Y_train = np_utils.to_categorical(y_train, nb_classes)\n",
    "Y_test = np_utils.to_categorical(y_test, nb_classes)"
   ]
  },
  {
   "cell_type": "code",
   "execution_count": 8,
   "metadata": {
    "collapsed": false
   },
   "outputs": [
    {
     "name": "stdout",
     "output_type": "stream",
     "text": [
      "CPU times: user 20.4 ms, sys: 2.55 ms, total: 23 ms\n",
      "Wall time: 40.5 ms\n"
     ]
    }
   ],
   "source": [
    "%time model.compile(loss='categorical_crossentropy', optimizer=RMSprop(), metrics=['accuracy'])"
   ]
  },
  {
   "cell_type": "code",
   "execution_count": 9,
   "metadata": {
    "collapsed": false
   },
   "outputs": [
    {
     "name": "stderr",
     "output_type": "stream",
     "text": [
      "/Users/trishala/anaconda2/envs/newkeras/lib/python2.7/site-packages/keras/models.py:603: UserWarning: The \"show_accuracy\" argument is deprecated, instead you should pass the \"accuracy\" metric to the model at compile time:\n",
      "`model.compile(optimizer, loss, metrics=[\"accuracy\"])`\n",
      "  warnings.warn('The \"show_accuracy\" argument is deprecated, '\n"
     ]
    },
    {
     "name": "stdout",
     "output_type": "stream",
     "text": [
      "Train on 60000 samples, validate on 10000 samples\n",
      "Epoch 1/3\n",
      "60000/60000 [==============================] - 1s - loss: 0.3898 - acc: 0.8905 - val_loss: 0.2856 - val_acc: 0.9207\n",
      "Epoch 2/3\n",
      "60000/60000 [==============================] - 2s - loss: 0.2936 - acc: 0.9177 - val_loss: 0.2842 - val_acc: 0.9203\n",
      "Epoch 3/3\n",
      "60000/60000 [==============================] - 2s - loss: 0.2827 - acc: 0.9212 - val_loss: 0.2852 - val_acc: 0.9216\n"
     ]
    }
   ],
   "source": [
    "h = model.fit(X_train, Y_train, batch_size =128, nb_epoch=3, show_accuracy = True, validation_data = (X_test, Y_test), verbose=1)"
   ]
  },
  {
   "cell_type": "code",
   "execution_count": 10,
   "metadata": {
    "collapsed": true
   },
   "outputs": [],
   "source": [
    "W1,b1,W2,b2 = model.get_weights()"
   ]
  },
  {
   "cell_type": "code",
   "execution_count": 11,
   "metadata": {
    "collapsed": false
   },
   "outputs": [
    {
     "data": {
      "text/plain": [
       "array([[-0.04392318, -0.00940219,  0.00223801, ..., -0.02793726,\n",
       "         0.03599655,  0.02997522],\n",
       "       [ 0.07272904,  0.04198454, -0.03632539, ...,  0.07772131,\n",
       "        -0.01769266, -0.00653781],\n",
       "       [ 0.06548129,  0.01637574,  0.02380114, ..., -0.0034843 ,\n",
       "        -0.01144139, -0.03988527],\n",
       "       ..., \n",
       "       [ 0.00863879, -0.07043242, -0.04175187, ..., -0.02681349,\n",
       "         0.00364234, -0.0023927 ],\n",
       "       [ 0.05215555,  0.01604078,  0.05344005, ...,  0.05476426,\n",
       "        -0.0539187 ,  0.01760176],\n",
       "       [-0.07785074, -0.04327604, -0.02975892, ...,  0.01032834,\n",
       "         0.07638571,  0.02024396]], dtype=float32)"
      ]
     },
     "execution_count": 11,
     "metadata": {},
     "output_type": "execute_result"
    }
   ],
   "source": [
    "W1"
   ]
  },
  {
   "cell_type": "code",
   "execution_count": 12,
   "metadata": {
    "collapsed": false
   },
   "outputs": [
    {
     "data": {
      "text/plain": [
       "array([-0.19732136,  0.09122638,  0.11815937,  0.12480889, -0.15667067,\n",
       "        0.03988222, -0.0213027 , -0.05312961, -0.01030233,  0.04201516,\n",
       "       -0.0474821 , -0.12024364,  0.0600786 ,  0.10486793, -0.09157707,\n",
       "        0.13355842, -0.00673402,  0.20884708,  0.04053801, -0.1286813 ,\n",
       "        0.12574254, -0.19018535,  0.06731959, -0.16640234, -0.08561629,\n",
       "        0.11659639, -0.15480274, -0.13791181,  0.02459438,  0.1886773 ,\n",
       "       -0.01033094,  0.01034829,  0.11090334,  0.01742894, -0.07982948,\n",
       "       -0.01224479,  0.0996527 ,  0.10432689, -0.08288068, -0.01186527,\n",
       "        0.05665839,  0.0695508 ,  0.14125046, -0.0118904 ,  0.14133494,\n",
       "       -0.00540399,  0.09333972,  0.07497164,  0.11954736,  0.20957442,\n",
       "        0.05800946,  0.14161263,  0.10682194, -0.01973605, -0.09013104,\n",
       "        0.03666779,  0.12867579,  0.01839055,  0.1316388 , -0.02107663,\n",
       "        0.05146091, -0.18161705, -0.07549278, -0.16062488, -0.07717127,\n",
       "       -0.0355635 ,  0.05351952,  0.20311132, -0.05947957, -0.18615998,\n",
       "        0.04696047, -0.06781124, -0.11241958, -0.12137374,  0.03717799,\n",
       "        0.0099584 , -0.07074052, -0.01025889,  0.04926504, -0.05401617,\n",
       "        0.07124105,  0.11186143,  0.24339947,  0.18571785,  0.15327314,\n",
       "       -0.04824231, -0.1217327 ,  0.24701057,  0.10736181,  0.17642628,\n",
       "       -0.16915607, -0.03671383,  0.05789907, -0.09354769, -0.0884022 ,\n",
       "        0.14263833, -0.02646332,  0.05843316, -0.05958797, -0.19447196,\n",
       "       -0.04959266, -0.0118113 , -0.0097549 ,  0.103212  , -0.02779658,\n",
       "       -0.03412129,  0.16048016, -0.07829908,  0.06938093,  0.00321271,\n",
       "        0.01271253, -0.09219179, -0.07918517,  0.01866603,  0.00794961,\n",
       "        0.12206475, -0.06419919, -0.1306306 ,  0.00114355,  0.06585845,\n",
       "        0.00783655, -0.1953896 , -0.18047164, -0.08395267,  0.05800668,\n",
       "        0.1040459 , -0.20137022, -0.04207063], dtype=float32)"
      ]
     },
     "execution_count": 12,
     "metadata": {},
     "output_type": "execute_result"
    }
   ],
   "source": [
    "b1"
   ]
  },
  {
   "cell_type": "code",
   "execution_count": 13,
   "metadata": {
    "collapsed": false
   },
   "outputs": [
    {
     "data": {
      "text/plain": [
       "array([[-0.10714442, -0.17105585,  0.1357511 , ..., -0.12533577,\n",
       "         0.08425178, -0.03861317],\n",
       "       [-0.15053828,  0.21258156,  0.12363887, ...,  0.06113201,\n",
       "         0.0886974 , -0.01077479],\n",
       "       [ 0.13035604,  0.17727835,  0.05204573, ...,  0.18832876,\n",
       "         0.01604614, -0.18736075],\n",
       "       ..., \n",
       "       [ 0.10027292,  0.29947025,  0.17692792, ...,  0.25682381,\n",
       "        -0.12260468,  0.17760749],\n",
       "       [-0.00824683, -0.1351162 , -0.22955708, ..., -0.22301453,\n",
       "         0.15705812,  0.0706014 ],\n",
       "       [-0.06097505,  0.23152465, -0.12275994, ...,  0.04931208,\n",
       "        -0.00270012, -0.0443862 ]], dtype=float32)"
      ]
     },
     "execution_count": 13,
     "metadata": {},
     "output_type": "execute_result"
    }
   ],
   "source": [
    "W2"
   ]
  },
  {
   "cell_type": "code",
   "execution_count": 14,
   "metadata": {
    "collapsed": false
   },
   "outputs": [
    {
     "data": {
      "text/plain": [
       "array([-0.08753993,  0.06722572,  0.051009  , -0.0556617 ,  0.02366049,\n",
       "        0.20501067, -0.03554799,  0.08555239, -0.18353893, -0.03802162], dtype=float32)"
      ]
     },
     "execution_count": 14,
     "metadata": {},
     "output_type": "execute_result"
    }
   ],
   "source": [
    "b2"
   ]
  },
  {
   "cell_type": "code",
   "execution_count": 16,
   "metadata": {
    "collapsed": false
   },
   "outputs": [
    {
     "data": {
      "text/plain": [
       "'funky_1'"
      ]
     },
     "execution_count": 16,
     "metadata": {},
     "output_type": "execute_result"
    }
   ],
   "source": [
    "act2.name #why funky_1?"
   ]
  },
  {
   "cell_type": "code",
   "execution_count": null,
   "metadata": {
    "collapsed": true
   },
   "outputs": [],
   "source": []
  }
 ],
 "metadata": {
  "anaconda-cloud": {},
  "kernelspec": {
   "display_name": "Python [conda env:newkeras]",
   "language": "python",
   "name": "conda-env-newkeras-py"
  },
  "language_info": {
   "codemirror_mode": {
    "name": "ipython",
    "version": 2
   },
   "file_extension": ".py",
   "mimetype": "text/x-python",
   "name": "python",
   "nbconvert_exporter": "python",
   "pygments_lexer": "ipython2",
   "version": "2.7.12"
  }
 },
 "nbformat": 4,
 "nbformat_minor": 1
}
