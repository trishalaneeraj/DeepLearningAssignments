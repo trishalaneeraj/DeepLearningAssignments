{
 "cells": [
  {
   "cell_type": "code",
   "execution_count": 1,
   "metadata": {
    "collapsed": false
   },
   "outputs": [
    {
     "name": "stderr",
     "output_type": "stream",
     "text": [
      "Using Theano backend.\n"
     ]
    }
   ],
   "source": [
    "import keras"
   ]
  },
  {
   "cell_type": "code",
   "execution_count": 2,
   "metadata": {
    "collapsed": true
   },
   "outputs": [],
   "source": [
    "import numpy as np\n",
    "from keras.datasets import mnist\n",
    "from keras.models import Sequential\n",
    "from keras.layers.core import Dense, Dropout, Activation\n",
    "from keras.optimizers import SGD, Adam, RMSprop\n",
    "from keras.utils import np_utils"
   ]
  },
  {
   "cell_type": "code",
   "execution_count": 3,
   "metadata": {
    "collapsed": true
   },
   "outputs": [],
   "source": [
    "from keras.layers.advanced_activations import LeakyReLU\n",
    "from custom_activations import funky"
   ]
  },
  {
   "cell_type": "code",
   "execution_count": 4,
   "metadata": {
    "collapsed": true
   },
   "outputs": [],
   "source": [
    "act1 = LeakyReLU()"
   ]
  },
  {
   "cell_type": "code",
   "execution_count": 5,
   "metadata": {
    "collapsed": true
   },
   "outputs": [],
   "source": [
    "act2 = funky()"
   ]
  },
  {
   "cell_type": "code",
   "execution_count": 6,
   "metadata": {
    "collapsed": true
   },
   "outputs": [],
   "source": [
    "model = Sequential()\n",
    "model.add(Dense(128, input_shape=(784,)))\n",
    "model.add(Activation(act1))\n",
    "model.add(Dense(10))\n",
    "model.add(Activation('softmax'))\n",
    "sgd = SGD()"
   ]
  },
  {
   "cell_type": "code",
   "execution_count": 7,
   "metadata": {
    "collapsed": true
   },
   "outputs": [],
   "source": [
    "(X_train, y_train), (X_test, y_test) = mnist.load_data()\n",
    "X_train = X_train.reshape(60000, 784)\n",
    "X_test = X_test.reshape(10000, 784)\n",
    "X_train = X_train.astype('float32')\n",
    "X_test = X_test.astype('float32')\n",
    "X_train /= 255\n",
    "X_test /= 255\n",
    "#print(X_train.shape[0], 'train samples')\n",
    "#print(X_test.shape[0], 'test samples')\n",
    "\n",
    "#convert class vectors to binary class matrices\n",
    "nb_classes = 10\n",
    "Y_train = np_utils.to_categorical(y_train, nb_classes)\n",
    "Y_test = np_utils.to_categorical(y_test, nb_classes)"
   ]
  },
  {
   "cell_type": "code",
   "execution_count": 8,
   "metadata": {
    "collapsed": false
   },
   "outputs": [
    {
     "name": "stdout",
     "output_type": "stream",
     "text": [
      "CPU times: user 16 ms, sys: 2.31 ms, total: 18.3 ms\n",
      "Wall time: 17.2 ms\n"
     ]
    }
   ],
   "source": [
    "%time model.compile(loss='categorical_crossentropy', optimizer=RMSprop(), metrics=['accuracy'])"
   ]
  },
  {
   "cell_type": "code",
   "execution_count": 9,
   "metadata": {
    "collapsed": false
   },
   "outputs": [
    {
     "name": "stderr",
     "output_type": "stream",
     "text": [
      "/Users/trishala/anaconda2/envs/newkeras/lib/python2.7/site-packages/keras/models.py:603: UserWarning: The \"show_accuracy\" argument is deprecated, instead you should pass the \"accuracy\" metric to the model at compile time:\n",
      "`model.compile(optimizer, loss, metrics=[\"accuracy\"])`\n",
      "  warnings.warn('The \"show_accuracy\" argument is deprecated, '\n"
     ]
    },
    {
     "name": "stdout",
     "output_type": "stream",
     "text": [
      "Train on 60000 samples, validate on 10000 samples\n",
      "Epoch 1/3\n",
      "60000/60000 [==============================] - 1s - loss: 0.3551 - acc: 0.9002 - val_loss: 0.2211 - val_acc: 0.9378\n",
      "Epoch 2/3\n",
      "60000/60000 [==============================] - 2s - loss: 0.2070 - acc: 0.9407 - val_loss: 0.1911 - val_acc: 0.9423\n",
      "Epoch 3/3\n",
      "60000/60000 [==============================] - 2s - loss: 0.1634 - acc: 0.9525 - val_loss: 0.1536 - val_acc: 0.9572\n"
     ]
    }
   ],
   "source": [
    "h = model.fit(X_train, Y_train, batch_size =128, nb_epoch=3, show_accuracy = True, validation_data = (X_test, Y_test), verbose=1)"
   ]
  },
  {
   "cell_type": "code",
   "execution_count": 10,
   "metadata": {
    "collapsed": true
   },
   "outputs": [],
   "source": [
    "W1,b1,W2,b2 = model.get_weights()"
   ]
  },
  {
   "cell_type": "code",
   "execution_count": 11,
   "metadata": {
    "collapsed": false
   },
   "outputs": [
    {
     "data": {
      "text/plain": [
       "array([[ 0.01600214, -0.07801446, -0.07119832, ..., -0.041309  ,\n",
       "         0.07803798, -0.05080473],\n",
       "       [ 0.01212427, -0.05693202,  0.00829877, ...,  0.01097088,\n",
       "        -0.01218118, -0.00358188],\n",
       "       [-0.02798825,  0.06245501,  0.04549764, ..., -0.05590139,\n",
       "         0.04120227,  0.065405  ],\n",
       "       ..., \n",
       "       [ 0.0337082 , -0.07150807,  0.07356078, ...,  0.06233416,\n",
       "         0.02434243,  0.07402773],\n",
       "       [-0.0600154 , -0.0706914 , -0.07367878, ..., -0.05974371,\n",
       "        -0.05202013,  0.02022146],\n",
       "       [ 0.04259464,  0.03292132,  0.0536679 , ..., -0.01986279,\n",
       "        -0.06798334, -0.06073821]], dtype=float32)"
      ]
     },
     "execution_count": 11,
     "metadata": {},
     "output_type": "execute_result"
    }
   ],
   "source": [
    "W1"
   ]
  },
  {
   "cell_type": "code",
   "execution_count": 12,
   "metadata": {
    "collapsed": false
   },
   "outputs": [
    {
     "data": {
      "text/plain": [
       "array([ 0.00825811,  0.07034484,  0.04879795, -0.07672587,  0.0935107 ,\n",
       "        0.01884316,  0.00590938,  0.08231358, -0.05029014,  0.05958919,\n",
       "        0.00149697, -0.01409578, -0.00522174, -0.01034627,  0.03978691,\n",
       "        0.06542351,  0.00137629,  0.05210906,  0.00375271,  0.05021174,\n",
       "        0.0553347 ,  0.02844198, -0.06818917,  0.0094202 , -0.01213054,\n",
       "        0.06961968,  0.08191475, -0.04527924,  0.09312265, -0.01524968,\n",
       "        0.02830494, -0.01926779,  0.09389703, -0.01289984,  0.12041978,\n",
       "       -0.04631449,  0.13182391,  0.08095248, -0.02886299, -0.0544009 ,\n",
       "        0.00996719, -0.06426766,  0.08472405,  0.02610137,  0.09607317,\n",
       "       -0.01284796, -0.05732202,  0.13661037, -0.01024327, -0.03598059,\n",
       "       -0.06330252,  0.03495168,  0.17538677,  0.05476326,  0.06474174,\n",
       "        0.09857379, -0.10356673,  0.08916046,  0.08619529,  0.10525808,\n",
       "        0.11103232, -0.02014363,  0.05625378,  0.01379062,  0.02381451,\n",
       "        0.03919306,  0.03861884,  0.05550249,  0.01296674, -0.01621434,\n",
       "        0.04465685, -0.04037645,  0.03050321, -0.04566729,  0.04877229,\n",
       "        0.01921151,  0.08641203, -0.04676349,  0.03467548, -0.00431136,\n",
       "       -0.00877569, -0.02596517,  0.04052208,  0.14721403,  0.02813218,\n",
       "        0.14609429,  0.03180449,  0.015291  ,  0.06406691,  0.10985439,\n",
       "        0.06537757,  0.07209467,  0.10576947,  0.05271232, -0.09426089,\n",
       "        0.0814046 , -0.06079707,  0.03606102, -0.13884151,  0.13149886,\n",
       "        0.0220501 ,  0.00633866,  0.03896336,  0.11314888,  0.10597391,\n",
       "        0.06309601,  0.00589102, -0.01393978, -0.0297066 ,  0.03638911,\n",
       "       -0.01249321, -0.1077069 ,  0.04023371,  0.02035395,  0.06453542,\n",
       "       -0.14364263,  0.01040152,  0.00733017, -0.03191916,  0.0355719 ,\n",
       "        0.04245821, -0.03227647,  0.06460896,  0.01828667, -0.04553503,\n",
       "       -0.03900231, -0.02616631,  0.00074294], dtype=float32)"
      ]
     },
     "execution_count": 12,
     "metadata": {},
     "output_type": "execute_result"
    }
   ],
   "source": [
    "b1"
   ]
  },
  {
   "cell_type": "code",
   "execution_count": 13,
   "metadata": {
    "collapsed": false
   },
   "outputs": [
    {
     "data": {
      "text/plain": [
       "array([[-0.34696746,  0.05446142,  0.05927617, ..., -0.16751352,\n",
       "        -0.08544301, -0.17020532],\n",
       "       [-0.18250924, -0.17484649,  0.07183832, ...,  0.17819972,\n",
       "        -0.29421961, -0.45739144],\n",
       "       [-0.03661508, -0.14699148,  0.20060135, ...,  0.03836012,\n",
       "        -0.2201346 , -0.44855061],\n",
       "       ..., \n",
       "       [ 0.14999257, -0.18660249,  0.02031232, ..., -0.0793832 ,\n",
       "         0.14349464,  0.0257253 ],\n",
       "       [ 0.24570411, -0.21398783,  0.04488847, ..., -0.11503445,\n",
       "        -0.40964434, -0.28187802],\n",
       "       [ 0.17716143,  0.11679867,  0.09549677, ..., -0.35319227,\n",
       "         0.19845247, -0.26310661]], dtype=float32)"
      ]
     },
     "execution_count": 13,
     "metadata": {},
     "output_type": "execute_result"
    }
   ],
   "source": [
    "W2"
   ]
  },
  {
   "cell_type": "code",
   "execution_count": 14,
   "metadata": {
    "collapsed": false
   },
   "outputs": [
    {
     "data": {
      "text/plain": [
       "array([-0.07976025,  0.04977971,  0.03185508, -0.03306931, -0.01756616,\n",
       "        0.11599142, -0.05018019,  0.06253695, -0.06383394, -0.01671107], dtype=float32)"
      ]
     },
     "execution_count": 14,
     "metadata": {},
     "output_type": "execute_result"
    }
   ],
   "source": [
    "b2"
   ]
  },
  {
   "cell_type": "code",
   "execution_count": 15,
   "metadata": {
    "collapsed": true
   },
   "outputs": [],
   "source": [
    "model.add(Activation(act2))"
   ]
  },
  {
   "cell_type": "code",
   "execution_count": 16,
   "metadata": {
    "collapsed": false
   },
   "outputs": [
    {
     "name": "stdout",
     "output_type": "stream",
     "text": [
      "CPU times: user 13.2 ms, sys: 2.55 ms, total: 15.8 ms\n",
      "Wall time: 14 ms\n"
     ]
    }
   ],
   "source": [
    "%time model.compile(loss='categorical_crossentropy', optimizer=RMSprop(), metrics=['accuracy'])\n",
    "#compiles Faster"
   ]
  },
  {
   "cell_type": "code",
   "execution_count": 17,
   "metadata": {
    "collapsed": false
   },
   "outputs": [
    {
     "name": "stdout",
     "output_type": "stream",
     "text": [
      "Train on 60000 samples, validate on 10000 samples\n",
      "Epoch 1/3\n",
      "60000/60000 [==============================] - 2s - loss: 0.1368 - acc: 0.9610 - val_loss: 0.1352 - val_acc: 0.9615\n",
      "Epoch 2/3\n",
      "60000/60000 [==============================] - 2s - loss: 0.1159 - acc: 0.9661 - val_loss: 0.1265 - val_acc: 0.9614\n",
      "Epoch 3/3\n",
      "60000/60000 [==============================] - 2s - loss: 0.1017 - acc: 0.9708 - val_loss: 0.1097 - val_acc: 0.9670\n"
     ]
    }
   ],
   "source": [
    "h = model.fit(X_train, Y_train, batch_size =128, nb_epoch=3, show_accuracy = True, validation_data = (X_test, Y_test), verbose=1)\n",
    "#Higher accuracy"
   ]
  },
  {
   "cell_type": "code",
   "execution_count": 18,
   "metadata": {
    "collapsed": false
   },
   "outputs": [
    {
     "data": {
      "text/plain": [
       "array([[ 0.01600214, -0.07801446, -0.07119832, ..., -0.041309  ,\n",
       "         0.07803798, -0.05080473],\n",
       "       [ 0.01212427, -0.05693202,  0.00829877, ...,  0.01097088,\n",
       "        -0.01218118, -0.00358188],\n",
       "       [-0.02798825,  0.06245501,  0.04549764, ..., -0.05590139,\n",
       "         0.04120227,  0.065405  ],\n",
       "       ..., \n",
       "       [ 0.0337082 , -0.07150807,  0.07356078, ...,  0.06233416,\n",
       "         0.02434243,  0.07402773],\n",
       "       [-0.0600154 , -0.0706914 , -0.07367878, ..., -0.05974371,\n",
       "        -0.05202013,  0.02022146],\n",
       "       [ 0.04259464,  0.03292132,  0.0536679 , ..., -0.01986279,\n",
       "        -0.06798334, -0.06073821]], dtype=float32)"
      ]
     },
     "execution_count": 18,
     "metadata": {},
     "output_type": "execute_result"
    }
   ],
   "source": [
    "W1"
   ]
  },
  {
   "cell_type": "code",
   "execution_count": 19,
   "metadata": {
    "collapsed": false
   },
   "outputs": [
    {
     "data": {
      "text/plain": [
       "array([ 0.00825811,  0.07034484,  0.04879795, -0.07672587,  0.0935107 ,\n",
       "        0.01884316,  0.00590938,  0.08231358, -0.05029014,  0.05958919,\n",
       "        0.00149697, -0.01409578, -0.00522174, -0.01034627,  0.03978691,\n",
       "        0.06542351,  0.00137629,  0.05210906,  0.00375271,  0.05021174,\n",
       "        0.0553347 ,  0.02844198, -0.06818917,  0.0094202 , -0.01213054,\n",
       "        0.06961968,  0.08191475, -0.04527924,  0.09312265, -0.01524968,\n",
       "        0.02830494, -0.01926779,  0.09389703, -0.01289984,  0.12041978,\n",
       "       -0.04631449,  0.13182391,  0.08095248, -0.02886299, -0.0544009 ,\n",
       "        0.00996719, -0.06426766,  0.08472405,  0.02610137,  0.09607317,\n",
       "       -0.01284796, -0.05732202,  0.13661037, -0.01024327, -0.03598059,\n",
       "       -0.06330252,  0.03495168,  0.17538677,  0.05476326,  0.06474174,\n",
       "        0.09857379, -0.10356673,  0.08916046,  0.08619529,  0.10525808,\n",
       "        0.11103232, -0.02014363,  0.05625378,  0.01379062,  0.02381451,\n",
       "        0.03919306,  0.03861884,  0.05550249,  0.01296674, -0.01621434,\n",
       "        0.04465685, -0.04037645,  0.03050321, -0.04566729,  0.04877229,\n",
       "        0.01921151,  0.08641203, -0.04676349,  0.03467548, -0.00431136,\n",
       "       -0.00877569, -0.02596517,  0.04052208,  0.14721403,  0.02813218,\n",
       "        0.14609429,  0.03180449,  0.015291  ,  0.06406691,  0.10985439,\n",
       "        0.06537757,  0.07209467,  0.10576947,  0.05271232, -0.09426089,\n",
       "        0.0814046 , -0.06079707,  0.03606102, -0.13884151,  0.13149886,\n",
       "        0.0220501 ,  0.00633866,  0.03896336,  0.11314888,  0.10597391,\n",
       "        0.06309601,  0.00589102, -0.01393978, -0.0297066 ,  0.03638911,\n",
       "       -0.01249321, -0.1077069 ,  0.04023371,  0.02035395,  0.06453542,\n",
       "       -0.14364263,  0.01040152,  0.00733017, -0.03191916,  0.0355719 ,\n",
       "        0.04245821, -0.03227647,  0.06460896,  0.01828667, -0.04553503,\n",
       "       -0.03900231, -0.02616631,  0.00074294], dtype=float32)"
      ]
     },
     "execution_count": 19,
     "metadata": {},
     "output_type": "execute_result"
    }
   ],
   "source": [
    "b1"
   ]
  },
  {
   "cell_type": "code",
   "execution_count": 20,
   "metadata": {
    "collapsed": false
   },
   "outputs": [
    {
     "data": {
      "text/plain": [
       "array([[-0.34696746,  0.05446142,  0.05927617, ..., -0.16751352,\n",
       "        -0.08544301, -0.17020532],\n",
       "       [-0.18250924, -0.17484649,  0.07183832, ...,  0.17819972,\n",
       "        -0.29421961, -0.45739144],\n",
       "       [-0.03661508, -0.14699148,  0.20060135, ...,  0.03836012,\n",
       "        -0.2201346 , -0.44855061],\n",
       "       ..., \n",
       "       [ 0.14999257, -0.18660249,  0.02031232, ..., -0.0793832 ,\n",
       "         0.14349464,  0.0257253 ],\n",
       "       [ 0.24570411, -0.21398783,  0.04488847, ..., -0.11503445,\n",
       "        -0.40964434, -0.28187802],\n",
       "       [ 0.17716143,  0.11679867,  0.09549677, ..., -0.35319227,\n",
       "         0.19845247, -0.26310661]], dtype=float32)"
      ]
     },
     "execution_count": 20,
     "metadata": {},
     "output_type": "execute_result"
    }
   ],
   "source": [
    "W2"
   ]
  },
  {
   "cell_type": "code",
   "execution_count": 21,
   "metadata": {
    "collapsed": false
   },
   "outputs": [
    {
     "data": {
      "text/plain": [
       "array([-0.07976025,  0.04977971,  0.03185508, -0.03306931, -0.01756616,\n",
       "        0.11599142, -0.05018019,  0.06253695, -0.06383394, -0.01671107], dtype=float32)"
      ]
     },
     "execution_count": 21,
     "metadata": {},
     "output_type": "execute_result"
    }
   ],
   "source": [
    "b2"
   ]
  },
  {
   "cell_type": "code",
   "execution_count": null,
   "metadata": {
    "collapsed": true
   },
   "outputs": [],
   "source": []
  }
 ],
 "metadata": {
  "anaconda-cloud": {},
  "kernelspec": {
   "display_name": "Python [conda env:newkeras]",
   "language": "python",
   "name": "conda-env-newkeras-py"
  },
  "language_info": {
   "codemirror_mode": {
    "name": "ipython",
    "version": 2
   },
   "file_extension": ".py",
   "mimetype": "text/x-python",
   "name": "python",
   "nbconvert_exporter": "python",
   "pygments_lexer": "ipython2",
   "version": "2.7.12"
  }
 },
 "nbformat": 4,
 "nbformat_minor": 1
}
